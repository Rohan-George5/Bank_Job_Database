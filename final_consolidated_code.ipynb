{
 "cells": [
  {
   "cell_type": "code",
   "execution_count": 0,
   "metadata": {
    "colab": {
     "base_uri": "https://localhost:8080/",
     "height": 148
    },
    "colab_type": "code",
    "executionInfo": {
     "elapsed": 5107,
     "status": "ok",
     "timestamp": 1587748232608,
     "user": {
      "displayName": "Vishwa Pardeshi",
      "photoUrl": "",
      "userId": "12134479053996921070"
     },
     "user_tz": -330
    },
    "id": "j5CoIHMA9wro",
    "outputId": "dd4db101-e43e-4ce8-cfcc-e39eac014b5a"
   },
   "outputs": [
    {
     "name": "stdout",
     "output_type": "stream",
     "text": [
      "Requirement already satisfied: twython in /usr/local/lib/python3.6/dist-packages (3.8.2)\n",
      "Requirement already satisfied: requests>=2.1.0 in /usr/local/lib/python3.6/dist-packages (from twython) (2.21.0)\n",
      "Requirement already satisfied: requests-oauthlib>=0.4.0 in /usr/local/lib/python3.6/dist-packages (from twython) (1.3.0)\n",
      "Requirement already satisfied: urllib3<1.25,>=1.21.1 in /usr/local/lib/python3.6/dist-packages (from requests>=2.1.0->twython) (1.24.3)\n",
      "Requirement already satisfied: idna<2.9,>=2.5 in /usr/local/lib/python3.6/dist-packages (from requests>=2.1.0->twython) (2.8)\n",
      "Requirement already satisfied: certifi>=2017.4.17 in /usr/local/lib/python3.6/dist-packages (from requests>=2.1.0->twython) (2020.4.5.1)\n",
      "Requirement already satisfied: chardet<3.1.0,>=3.0.2 in /usr/local/lib/python3.6/dist-packages (from requests>=2.1.0->twython) (3.0.4)\n",
      "Requirement already satisfied: oauthlib>=3.0.0 in /usr/local/lib/python3.6/dist-packages (from requests-oauthlib>=0.4.0->twython) (3.1.0)\n"
     ]
    }
   ],
   "source": [
    "!pip install twython\n",
    "from bs4 import BeautifulSoup \n",
    "import requests\n",
    "import pandas as pd"
   ]
  },
  {
   "cell_type": "code",
   "execution_count": 0,
   "metadata": {
    "colab": {},
    "colab_type": "code",
    "id": "ccBmVgsXHS_o"
   },
   "outputs": [],
   "source": [
    "def getSoup(URL):\n",
    "  r=requests.get(URL)\n",
    "  soup=BeautifulSoup(r.content, \"html.parser\")\n",
    "  return(soup)"
   ]
  },
  {
   "cell_type": "code",
   "execution_count": 0,
   "metadata": {
    "colab": {},
    "colab_type": "code",
    "id": "hWbsTK7U82LF"
   },
   "outputs": [],
   "source": [
    "from twython import Twython\n",
    "import json"
   ]
  },
  {
   "cell_type": "code",
   "execution_count": 0,
   "metadata": {
    "colab": {},
    "colab_type": "code",
    "id": "bzMvwhm4KLv1"
   },
   "outputs": [],
   "source": [
    "def getTaggedTweets(hashtag):\n",
    "  \"\"\"tutorial for accessing twitter api using twython\n",
    "  link - https://stackabuse.com/accessing-the-twitter-api-with-python/\"\"\"\n",
    "  \n",
    "  #api details\n",
    "  # Enter your keys/secrets as strings in the following fields\n",
    "  credentials = {}\n",
    "  credentials['CONSUMER_KEY'] = 'GJrKx4QiGP4VBCvWzwzL9Jc3s'\n",
    "  credentials['CONSUMER_SECRET'] = 'SRrnCvSvJ75wilwE62wrj22hQGA8rJrNtQJEFNemORgSLQNTqY'\n",
    "  credentials['ACCESS_TOKEN'] = '1246732645284728832-I6ReqO8tMqdASeGMK62op2Ygq7RXXj'\n",
    "  credentials['ACCESS_SECRET'] = 'mGeWISnxFe04t0rqtgql7QloBPLUgnjeazlodmD1VHNeJ'\n",
    "\n",
    "\n",
    "  # Instantiate an object\n",
    "  python_tweets = Twython(credentials['CONSUMER_KEY'], credentials['CONSUMER_SECRET'])\n",
    "  # Create our query\n",
    "  query = {'q': hashtag,\n",
    "          'result_type': 'mixed',\n",
    "          'count': 100,\n",
    "          'lang': 'en'\n",
    "          }\n",
    "\n",
    "  # Search tweets\n",
    "  dict_ = {'user': [], 'date': [], 'text': [], 'favorite_count': [], 'hashtags' : [], 'user_loc' :[]}\n",
    "  for status in python_tweets.search(**query)['statuses']:\n",
    "\n",
    "      dict_['user'].append(status['user']['screen_name'])\n",
    "      dict_['date'].append(status['created_at'])\n",
    "      dict_['text'].append(status['text'])\n",
    "      dict_['favorite_count'].append(status['favorite_count'])\n",
    "      dict_['hashtags'].append([hashtag['text'] for hashtag in status['entities']['hashtags']])\n",
    "      dict_['user_loc'].append(status['user']['location'])\n",
    "      # Structure data in a pandas DataFrame for easier manipulation\n",
    "  df = pd.DataFrame(dict_)\n",
    "  return(df)"
   ]
  },
  {
   "cell_type": "markdown",
   "metadata": {
    "colab_type": "text",
    "id": "hLJbnS5n-wcr"
   },
   "source": [
    "## Top 5 Banks Web Scraping"
   ]
  },
  {
   "cell_type": "code",
   "execution_count": 0,
   "metadata": {
    "colab": {},
    "colab_type": "code",
    "id": "6IhX6QS-9wpi"
   },
   "outputs": [],
   "source": [
    "wiki_url= \"https://en.wikipedia.org/wiki/List_of_largest_banks_in_the_United_States\" #url for getting list"
   ]
  },
  {
   "cell_type": "code",
   "execution_count": 0,
   "metadata": {
    "colab": {},
    "colab_type": "code",
    "id": "hU4qeDmG9wnA"
   },
   "outputs": [],
   "source": [
    "#for getting wiki stuff\n",
    "wiki_soup = getSoup(wiki_url)\n",
    "table= wiki_soup.find('table')  #print(table)\n",
    "rows = table.find_all('tr')\n",
    "columns = [v.text.replace('\\n','') for v in rows[0].find_all('th')]\n",
    "  #for row in table.findAll('tr'):\n",
    "    #for column in row.findAll('td'):\n",
    "  #print(columns)\n",
    "banks_df = pd.DataFrame(columns=columns)\n",
    "for i in range(1,6):\n",
    "  tds = rows[i].findAll('td')\n",
    "\n",
    "  if len(tds) == 4:\n",
    "    values = [tds[0].text.replace('\\n',''), tds[1].text.replace('\\n',''),'',tds[2].text.replace('\\n',''),tds[3].text.replace('\\n','')]\n",
    "  else:\n",
    "    values = [td.text.replace('\\n','') for td in tds]\n",
    "\n",
    "      #print(values)\n",
    "  banks_df = banks_df.append(pd.Series(values, index=columns),ignore_index=True)\n",
    "\n",
    "banks_df.head()\n",
    "banks_df.to_csv(r'wiki_list.csv',index=False, header=True)\n",
    "    \n",
    "    \n",
    "#C:\\Users\\Rohan\\Desktop\\NEU\\Term 2\\DMDD\\Final project\\wiki list\\"
   ]
  },
  {
   "cell_type": "markdown",
   "metadata": {
    "colab_type": "text",
    "id": "PAtejzTt93py"
   },
   "source": [
    "# Bank of America Web Scraping\n"
   ]
  },
  {
   "cell_type": "code",
   "execution_count": 0,
   "metadata": {
    "colab": {},
    "colab_type": "code",
    "id": "SUe5_xk38TGE"
   },
   "outputs": [],
   "source": [
    "bofa_url = \"https://careers.bankofamerica.com/en-us/job-search?ref=search&search=jobsByCityCountry&city=Azusa&state=California&country=United+States&searchstring=USA&rows=183\""
   ]
  },
  {
   "cell_type": "code",
   "execution_count": 0,
   "metadata": {
    "colab": {},
    "colab_type": "code",
    "id": "H1hCj1vP8hUi"
   },
   "outputs": [],
   "source": [
    "bofa_soup = getSoup(bofa_url)\n",
    "#print(soup)\n",
    "job = bofa_soup.find('div', attrs={'aem-wrap--job-search-results-listing section'})\n",
    "#print(job)\n",
    "job_name = []\n",
    "for row in job.findAll('a'):\n",
    "  job_name.append(row.text)"
   ]
  },
  {
   "cell_type": "code",
   "execution_count": 0,
   "metadata": {
    "colab": {},
    "colab_type": "code",
    "id": "cmmGd-Xf8jY6"
   },
   "outputs": [],
   "source": [
    "locations = []\n",
    "dates = []\n",
    "for location in bofa_soup.findAll('div', attrs={'class':'job-search-tile__detail'}):\n",
    "  dates.append((location.text.split(\"\\n\")[1]).split()[1])\n",
    "  locations.append(location.text.split(\"\\n\")[2])"
   ]
  },
  {
   "cell_type": "code",
   "execution_count": 0,
   "metadata": {
    "colab": {
     "base_uri": "https://localhost:8080/",
     "height": 52
    },
    "colab_type": "code",
    "executionInfo": {
     "elapsed": 762,
     "status": "ok",
     "timestamp": 1587747956615,
     "user": {
      "displayName": "Vishwa Pardeshi",
      "photoUrl": "",
      "userId": "12134479053996921070"
     },
     "user_tz": -330
    },
    "id": "_XFVz80-8m85",
    "outputId": "7eeeeb7c-7ab4-428f-8ff1-4a590dd4359d"
   },
   "outputs": [
    {
     "name": "stdout",
     "output_type": "stream",
     "text": [
      "['04/13/2020', '04/16/2020', '04/20/2020', '04/13/2020', '04/21/2020', '04/08/2020', '04/10/2020', '04/10/2020', '04/20/2020', '04/13/2020', '04/08/2020', '04/24/2020', '04/23/2020', '04/23/2020', '04/07/2020', '03/18/2020', '03/02/2020', '04/06/2020', '04/06/2020', '04/12/2020', '04/10/2020', '02/06/2020', '04/01/2020', '03/24/2020', '01/06/2020', '04/10/2020', '04/21/2020', '04/16/2020', '04/15/2020', '04/10/2020', '04/10/2020', '03/25/2020', '04/21/2020', '04/14/2020', '04/21/2020', '04/15/2020', '04/14/2020', '04/21/2020', '04/10/2020', '04/10/2020', '03/26/2020', '03/26/2020', '04/10/2020', '03/18/2020', '04/17/2020', '04/23/2020', '04/22/2020', '04/21/2020', '04/21/2020', '04/21/2020', '04/16/2020', '04/16/2020', '04/15/2020', '04/14/2020', '04/13/2020', '04/13/2020', '04/09/2020', '04/09/2020', '04/09/2020', '04/09/2020', '04/09/2020', '04/08/2020', '04/08/2020', '04/08/2020', '04/08/2020', '04/08/2020', '04/08/2020', '04/08/2020', '04/07/2020', '03/26/2020', '03/23/2020', '03/16/2020', '03/13/2020', '02/28/2020', '02/25/2020', '02/06/2020', '02/06/2020', '01/16/2020', '01/14/2020', '01/06/2020', '12/05/2019', '03/17/2020', '04/20/2020', '04/10/2020', '04/10/2020', '03/10/2020', '03/04/2020', '02/10/2020', '04/10/2020', '04/08/2020', '04/20/2020', '04/20/2020', '04/20/2020', '03/24/2020', '02/19/2020', '03/11/2020', '03/16/2020', '04/22/2020', '04/14/2020', '04/10/2020', '04/10/2020', '03/13/2020', '03/02/2020', '02/12/2020', '04/13/2020', '04/10/2020', '04/10/2020', '03/17/2020', '02/14/2020', '04/14/2020', '02/21/2020', '04/14/2020', '03/18/2020', '01/30/2020', '04/10/2020', '03/11/2020', '03/26/2020', '04/21/2020', '04/17/2020', '04/08/2020', '04/08/2020', '04/22/2020', '02/24/2020', '02/24/2020', '04/21/2020', '03/09/2020', '03/06/2020', '04/10/2020', '04/06/2020', '04/03/2020', '04/22/2020', '04/20/2020', '04/15/2020', '04/03/2020', '02/25/2020', '11/19/2019', '04/21/2020', '04/21/2020', '02/19/2020', '04/06/2020', '04/21/2020', '04/08/2020', '02/12/2020', '04/13/2020', '04/08/2020', '04/13/2020', '04/20/2020', '04/10/2020', '04/21/2020', '04/10/2020', '04/02/2020', '03/31/2020', '02/21/2020', '02/06/2020', '03/06/2020', '04/13/2020', '02/27/2020', '04/06/2020', '03/16/2020', '04/20/2020', '03/02/2020', '04/09/2020', '03/17/2020', '04/14/2020', '04/21/2020', '04/16/2020', '04/13/2020', '04/07/2020', '03/16/2020', '03/13/2020', '03/04/2020', '04/22/2020', '03/04/2020', '02/28/2020', '04/23/2020', '01/06/2020']\n"
     ]
    }
   ],
   "source": [
    "print(dates)\n"
   ]
  },
  {
   "cell_type": "code",
   "execution_count": 0,
   "metadata": {
    "colab": {
     "base_uri": "https://localhost:8080/",
     "height": 52
    },
    "colab_type": "code",
    "executionInfo": {
     "elapsed": 854,
     "status": "ok",
     "timestamp": 1587747958272,
     "user": {
      "displayName": "Vishwa Pardeshi",
      "photoUrl": "",
      "userId": "12134479053996921070"
     },
     "user_tz": -330
    },
    "id": "scp5udMx8qyO",
    "outputId": "19b9298f-0a1e-43d2-d5a9-b7cf8dca435b"
   },
   "outputs": [
    {
     "name": "stdout",
     "output_type": "stream",
     "text": [
      "['Azusa, California', 'Multiple Locations', 'Multiple Locations', 'Multiple Locations', 'Multiple Locations', 'Rosemead, California', 'Whittier, California', 'Whittier, California', 'Chino Hills, California', 'Multiple Locations', 'Monterey Park, California', 'Brea, California', 'Multiple Locations', 'Multiple Locations', 'Brea, California', 'Brea, California', 'Multiple Locations', 'Upland, California', 'Upland, California', 'Multiple Locations', 'Santa Fe Springs, California', 'La Canada Flintridge, California', 'Ontario, California', 'Ontario, California', 'All U.S. locations considered', 'Fullerton, California', 'Norwalk, California', 'Anaheim, California', 'Anaheim, California', 'Anaheim, California', 'Anaheim, California', 'Anaheim, California', 'Huntington Park, California', 'Huntington Park, California', 'Cerritos, California', 'Cerritos, California', 'Cerritos, California', 'Buena Park, California', 'Bellflower, California', 'Bellflower, California', 'Bellflower, California', 'Bellflower, California', 'La Palma, California', 'Glendale, California', 'Lynwood, California', 'Multiple Locations', 'Los Angeles, California', 'Los Angeles, California', 'Los Angeles, California', 'Multiple Locations', 'Los Angeles, California', 'Los Angeles, California', 'Los Angeles, California', 'Los Angeles, California', 'Multiple Locations', 'Multiple Locations', 'Los Angeles, California', 'Los Angeles, California', 'Los Angeles, California', 'Los Angeles, California', 'Multiple Locations', 'Los Angeles, California', 'Los Angeles, California', 'Los Angeles, California', 'Los Angeles, California', 'Los Angeles, California', 'Los Angeles, California', 'Los Angeles, California', 'Multiple Locations', 'Los Angeles, California', 'Multiple Locations', 'Los Angeles, California', 'Los Angeles, California', 'Los Angeles, California', 'Los Angeles, California', 'Los Angeles, California', 'Multiple Locations', 'Los Angeles, California', 'Multiple Locations', 'All U.S. locations considered', 'Los Angeles, California', 'Palmdale, California', 'Garden Grove, California', 'Garden Grove, California', 'Garden Grove, California', 'Garden Grove, California', 'Garden Grove, California', 'North Hollywood, California', 'West Hollywood, California', 'West Hollywood, California', 'Santa Ana, California', 'Santa Ana, California', 'Santa Ana, California', 'Santa Ana, California', 'Santa Ana, California', 'Studio City, California', 'Gardena, California', 'Irvine, California', 'Irvine, California', 'Irvine, California', 'Irvine, California', 'Irvine, California', 'Irvine, California', 'Irvine, California', 'Long Beach, California', 'Long Beach, California', 'Long Beach, California', 'Long Beach, California', 'Long Beach, California', 'Inglewood, California', 'Inglewood, California', 'Tustin, California', 'Culver City, California', 'Culver City, California', 'Hawthorne, California', 'Seal Beach, California', 'Sylmar, California', 'Torrance, California', 'Torrance, California', 'Torrance, California', 'West Los Angeles, California', 'Costa Mesa, California', 'El Segundo, California', 'El Segundo, California', 'Harbor City, California', 'Harbor City, California', 'Harbor City, California', 'Riverside, California', 'Riverside, California', 'Riverside, California', 'Beverly Hills, California', 'Pasadena, California', 'Downey, California', 'San Fernando, California', 'Downey, California', 'Multiple Locations', 'Manhattan Beach, California', 'San Pedro, California', 'Marina Del Rey, California', 'Venice, California', 'Santa Monica, California', 'Santa Monica, California', 'Santa Monica, California', 'Redondo Beach, California', 'Redondo Beach, California', 'Encino, California', 'Rolling Hills Estates, California', 'Rolling Hills Estates, California', 'Newport Beach, California', 'Newport Beach, California', 'Newport Beach, California', 'Huntington Beach, California', 'Newport Beach, California', 'Multiple Locations', 'Lake Forest, California', 'Northridge, California', 'Corona Del Mar, California', 'Woodland Hills, California', 'Woodland Hills, California', 'Santa Clarita, California', 'Santa Clarita, California', 'Aliso Viejo, California', 'Chatsworth, California', 'Perris, California', 'Moreno Valley, California', 'Lake Elsinore, California', 'San Juan Capistrano, California', 'All U.S. locations considered', 'All U.S. locations considered', 'All U.S. locations considered', 'All U.S. locations considered', 'All U.S. locations considered', 'All U.S. locations considered', 'All U.S. locations considered', 'All U.S. locations considered', 'All U.S. locations considered']\n"
     ]
    }
   ],
   "source": [
    "print(locations)"
   ]
  },
  {
   "cell_type": "code",
   "execution_count": 0,
   "metadata": {
    "colab": {
     "base_uri": "https://localhost:8080/",
     "height": 52
    },
    "colab_type": "code",
    "executionInfo": {
     "elapsed": 992,
     "status": "ok",
     "timestamp": 1587747959851,
     "user": {
      "displayName": "Vishwa Pardeshi",
      "photoUrl": "",
      "userId": "12134479053996921070"
     },
     "user_tz": -330
    },
    "id": "UcrjNxEt8s7m",
    "outputId": "ce295f90-0bca-4859-9c54-473a2307346f"
   },
   "outputs": [
    {
     "name": "stdout",
     "output_type": "stream",
     "text": [
      "['Merchant Services Consultant – Azusa/Baldwin Park/Glendora Region', 'Merchant Services Consultant - East LA', 'Merchant Services Consultant', 'Merchant Services Consultant – Arcadia/Pasadena/Monrovia Region', 'Merchant Services Consultant – San Gabriel Valley, CA', 'Client Service Representative', 'Client Service Representative', 'Client Service Representative', 'Client Service Representative', 'Merchant Services Consultant –Los Angeles/Montebello Region', 'Relationship Banker - Monterey Park Financial Center - Monterey Park, CA (Mandarin Language Fluency Required)', 'Inside Sales Representative', 'Merrill Lynch Financial Advisor Development Program', 'Quantitative Operations Assoc', 'Client Service Representative II', 'Treasury Sales Manager I', 'Treasury Account Manager I/II', 'Client Service Representative', 'Client Service Representative', 'Merchant Services Consultant - Greater Los Angeles Area', 'Client Service Representative', 'Client Service Representative', 'Client Service Representative', 'Client Service Representative', 'Retirement & Personal Wealth Benefits Specialist - West/Midwest/South Central Regions', 'Client Service Representative', 'Client Service Representative', 'Client Service Representative', 'Client Service Representative', 'Client Service Representative', 'Client Service Representative', 'Client Service Representative', 'Client Service Representative', 'Client Service Representative', 'Client Service Representative', 'Small Business Banker - Cerritos Financial Center- Cerritos, CA', 'Client Service Representative', 'Relationship Banker- Beach Commonwealth Financial Center, Buena Park, CA- Bilingual Spanish Preferred', 'Client Service Representative', 'Client Service Representative', 'Client Service Representative', 'Client Service Representative', 'Client Service Representative', 'Client Svcs Team Manager- Bilingual Korean', 'Client Service Representative', 'Wholesale Credit Admin Associate -Chicago', 'Client Service Representative', 'Client Service Representative', 'Client Service Representative', 'Merchant Services Consultant - Sherman Oaks, Los Angeles Area, CA', 'Relationship Banker - Bank of America Plaza Financial Center - Los Angeles, CA (Spanish Language Fluency Preferred)', 'Relationship Banker - Bank of America Plaza Financial Center - Los Angeles, CA (Spanish Language Fluency Required)', 'Client Service Representative', 'Client Service Representative', 'Merchant Services Consultant - Beverly & San Vicente / Santa Monica', 'Merchant Services Consultant–Los Angeles/Hollywood Region', 'Client Service Representative', 'Client Service Representative', 'Client Service Representative', 'Client Service Representative', 'Merchant Services  Statement Analyst', 'Client Service Representative', 'Client Service Representative', 'Client Service Representative', 'Client Service Representative', 'Client Service Representative', 'Client Service Representative', 'Client Service Representative', 'Wholesale Credit Admin Associate', 'Client Service Representative', 'CREB Senior Underwriter', 'Client Service Representative', 'Relationship Banker - Western-Olympic Financial Center - Los Angeles, CA (Korean Fluency Required)', 'Market Executive - Middle Market (Greater Los Angeles - North)', 'Commercial Credit Officer', 'Middle Market Sr. Relationship Manager (South Bay) - Los Angeles Office', 'Treasury Sales Specialist', 'Consumer Investments Financial Solutions Advisor - Westwood Village Financial Center - Los Angeles, CA', 'Sr. Relationship Manager (Healthcare, Education, Not for Profit Group – San Francisco/Los Angeles)', 'Retirement & Personal Wealth (Benefits Specialist) Team Leader', 'Client Service Representative', 'Client Service Representative', 'Client Service Representative', 'Client Service Representative', 'Client Service Representative', 'Client Service Representative', 'Client Service Representative', 'Client Service Representative', 'Client Service Representative', 'Client Service Representative', 'Client Service Representative', 'Client Service Representative', 'Relationship Banker- South Coast Financial Center- Santa Ana, CA', 'Client Service Representative', 'Client Service Representative', 'Client Service Representative', 'Client Service Representative', 'Relationship Banker- Heritage Plaza Financial Center, Irvine, CA- Bilingual Mandarin Preferred', 'Client Service Representative', 'Client Service Representative', 'Client Service Representative', 'Wealth Management Banking Specialist - Irvine, CA', 'Client Service Representative', 'Small Business Banker, Irvine, CA', 'Consumer Investments Financial Solutions Advisor - Los Altos Financial Center - Long Beach, CA', 'Client Service Representative', 'Client Service Representative', 'Small Business Banker,  Long Beach, CA', 'Client Service Representative', 'Client Service Representative', 'Client Service Representative', 'Client Service Representative', 'Client Service Representative', 'Small Business Banker - Culver City, CA', 'Client Service Representative', 'Client Service Representative', 'Client Service Representative', 'Client Service Representative', 'Client Service Representative', 'Client Service Representative', 'Client Service Representative', 'Wealth Management Banking Specialist -Costa Mesa, CA', 'Analyst-Investments', 'Analyst-Investments', 'Client Service Representative', 'Relationship Banker - Harbor City Financial Center -Harbor City, CA - (Bilingual Spanish Preferred)', 'Client Service Representative', 'Client Service Representative', 'Client Service Representative', 'Client Service Representative', 'Client Service Representative', 'Wealth Management Banking Specialist - Pasadena, CA', 'Client Service Representative', 'Client Service Representative', 'Client Service Representative', 'Team Lead- Mainframe Application Development Programming', 'Client Service Representative', 'Client Service Representative', 'Client Service Representative', 'Client Service Representative', 'Client Service Representative', 'Client Service Representative', 'Consumer Investment Financial Solutions Advisor - Lincoln Manchester Financial Center- Los Angeles, CA', 'Client Service Representative', 'Relationship Banker - Riviera Village Financial Center - Redondo Beach, CA', 'Relationship Banker - Encino Financial Center - Encino, CA', 'Wealth Management Banking Specialist - Rolling Hills Estate, CA', 'Client Service Representative', 'Wealth Management Banking Specialist -Newport Beach, CA', 'Client Service Representative', 'Client Associate', 'Client Service Representative', 'Merrill Financial Solutions Advisor - Newport Office - Newport Beach, CA', 'Credit Products Manager', 'Client Service Representative', 'Relationship Banker - Devonshire-Reseda Financial Center - Northridge, CA', 'Small Business Consultant - Corona Del Mar Financial Center- Corona Del Mar, CA', 'Wealth Management Banking Specialist - Woodland Hills, CA', 'Client Service Representative', 'Relationship Banker - Bouquet Canyon Financial Center - Santa Clarita, CA - Preferred Language: Spanish', 'Client Service Representative', 'Relationship Banker- Aliso Viejo Financial Center- Aliso Viejo, CA', 'Relationship Banker - Chatworth Industrial Financial Center - Chatsworth, CA- Spanish Required', 'Client Service Representative', 'Client Service Representative', 'Client Service Representative', 'Relationship Banker- San Juan Capistrano Financial Center- San Juan Capistrano, CA- Spanish Language Preferred', 'Merrill Lynch Wealth Management Market Executive Leadership Academy – Opportunities Nationwide', 'Product Insights Product Manager', 'Card Network Fee Execution', 'Payments Compliance Analyst', 'Interchange Analyst', 'Payments Compliance Team Lead', 'Approval Officer II', 'Employee Benefits Specialist - NE Regions', 'Retirement & Personal Wealth Benefits Specialist - NE/SE/Mid-Atlantic Regions']\n"
     ]
    }
   ],
   "source": [
    "print(job_name)"
   ]
  },
  {
   "cell_type": "code",
   "execution_count": 0,
   "metadata": {
    "colab": {},
    "colab_type": "code",
    "id": "pa5gMy2NI2om"
   },
   "outputs": [],
   "source": [
    "def getJobsDf(jobs, loc, dates):\n",
    "  df = pd.DataFrame({'Job Name':jobs, 'Location':loc, 'Date Posted': dates})\n",
    "  df.head()\n",
    "  return(df)"
   ]
  },
  {
   "cell_type": "code",
   "execution_count": 0,
   "metadata": {
    "colab": {},
    "colab_type": "code",
    "id": "TZjs-1xZ8wYl"
   },
   "outputs": [],
   "source": [
    "bofa_df = getJobsDf(job_name, locations, dates)"
   ]
  },
  {
   "cell_type": "code",
   "execution_count": 0,
   "metadata": {
    "colab": {
     "base_uri": "https://localhost:8080/",
     "height": 201
    },
    "colab_type": "code",
    "executionInfo": {
     "elapsed": 1052,
     "status": "ok",
     "timestamp": 1587748049106,
     "user": {
      "displayName": "Vishwa Pardeshi",
      "photoUrl": "",
      "userId": "12134479053996921070"
     },
     "user_tz": -330
    },
    "id": "rA87bmFhKBOa",
    "outputId": "ff640eac-e178-401d-8730-6f9aaf6d9a61"
   },
   "outputs": [
    {
     "data": {
      "text/html": [
       "<div>\n",
       "<style scoped>\n",
       "    .dataframe tbody tr th:only-of-type {\n",
       "        vertical-align: middle;\n",
       "    }\n",
       "\n",
       "    .dataframe tbody tr th {\n",
       "        vertical-align: top;\n",
       "    }\n",
       "\n",
       "    .dataframe thead th {\n",
       "        text-align: right;\n",
       "    }\n",
       "</style>\n",
       "<table border=\"1\" class=\"dataframe\">\n",
       "  <thead>\n",
       "    <tr style=\"text-align: right;\">\n",
       "      <th></th>\n",
       "      <th>Job Name</th>\n",
       "      <th>Location</th>\n",
       "      <th>Date Posted</th>\n",
       "    </tr>\n",
       "  </thead>\n",
       "  <tbody>\n",
       "    <tr>\n",
       "      <th>0</th>\n",
       "      <td>Merchant Services Consultant – Azusa/Baldwin P...</td>\n",
       "      <td>Azusa, California</td>\n",
       "      <td>04/13/2020</td>\n",
       "    </tr>\n",
       "    <tr>\n",
       "      <th>1</th>\n",
       "      <td>Merchant Services Consultant - East LA</td>\n",
       "      <td>Multiple Locations</td>\n",
       "      <td>04/16/2020</td>\n",
       "    </tr>\n",
       "    <tr>\n",
       "      <th>2</th>\n",
       "      <td>Merchant Services Consultant</td>\n",
       "      <td>Multiple Locations</td>\n",
       "      <td>04/20/2020</td>\n",
       "    </tr>\n",
       "    <tr>\n",
       "      <th>3</th>\n",
       "      <td>Merchant Services Consultant – Arcadia/Pasaden...</td>\n",
       "      <td>Multiple Locations</td>\n",
       "      <td>04/13/2020</td>\n",
       "    </tr>\n",
       "    <tr>\n",
       "      <th>4</th>\n",
       "      <td>Merchant Services Consultant – San Gabriel Val...</td>\n",
       "      <td>Multiple Locations</td>\n",
       "      <td>04/21/2020</td>\n",
       "    </tr>\n",
       "  </tbody>\n",
       "</table>\n",
       "</div>"
      ],
      "text/plain": [
       "                                            Job Name  ... Date Posted\n",
       "0  Merchant Services Consultant – Azusa/Baldwin P...  ...  04/13/2020\n",
       "1             Merchant Services Consultant - East LA  ...  04/16/2020\n",
       "2                       Merchant Services Consultant  ...  04/20/2020\n",
       "3  Merchant Services Consultant – Arcadia/Pasaden...  ...  04/13/2020\n",
       "4  Merchant Services Consultant – San Gabriel Val...  ...  04/21/2020\n",
       "\n",
       "[5 rows x 3 columns]"
      ]
     },
     "execution_count": 24,
     "metadata": {
      "tags": []
     },
     "output_type": "execute_result"
    }
   ],
   "source": [
    "bofa_df.head()"
   ]
  },
  {
   "cell_type": "code",
   "execution_count": 0,
   "metadata": {
    "colab": {},
    "colab_type": "code",
    "id": "_uxGQYoU8xx7"
   },
   "outputs": [],
   "source": [
    "bofa_df.to_csv(r'bofa_job_list.csv',index=False, header=True)"
   ]
  },
  {
   "cell_type": "markdown",
   "metadata": {
    "colab_type": "text",
    "id": "SjJGNgYt-7W6"
   },
   "source": [
    "# Bank of America Twitter Data"
   ]
  },
  {
   "cell_type": "code",
   "execution_count": 0,
   "metadata": {
    "colab": {},
    "colab_type": "code",
    "id": "m17HDl1C_OQp"
   },
   "outputs": [],
   "source": [
    "bofa_tweet = getTaggedTweets('#bankofamerica')"
   ]
  },
  {
   "cell_type": "code",
   "execution_count": 0,
   "metadata": {
    "colab": {
     "base_uri": "https://localhost:8080/",
     "height": 201
    },
    "colab_type": "code",
    "executionInfo": {
     "elapsed": 1034,
     "status": "ok",
     "timestamp": 1587748303169,
     "user": {
      "displayName": "Vishwa Pardeshi",
      "photoUrl": "",
      "userId": "12134479053996921070"
     },
     "user_tz": -330
    },
    "id": "iFPK19SmLFOB",
    "outputId": "5ff4196b-046e-451c-f9ed-eb93f895ea41"
   },
   "outputs": [
    {
     "data": {
      "text/html": [
       "<div>\n",
       "<style scoped>\n",
       "    .dataframe tbody tr th:only-of-type {\n",
       "        vertical-align: middle;\n",
       "    }\n",
       "\n",
       "    .dataframe tbody tr th {\n",
       "        vertical-align: top;\n",
       "    }\n",
       "\n",
       "    .dataframe thead th {\n",
       "        text-align: right;\n",
       "    }\n",
       "</style>\n",
       "<table border=\"1\" class=\"dataframe\">\n",
       "  <thead>\n",
       "    <tr style=\"text-align: right;\">\n",
       "      <th></th>\n",
       "      <th>user</th>\n",
       "      <th>date</th>\n",
       "      <th>text</th>\n",
       "      <th>favorite_count</th>\n",
       "      <th>hashtags</th>\n",
       "      <th>user_loc</th>\n",
       "    </tr>\n",
       "  </thead>\n",
       "  <tbody>\n",
       "    <tr>\n",
       "      <th>0</th>\n",
       "      <td>EyeCapital</td>\n",
       "      <td>Fri Apr 24 16:42:52 +0000 2020</td>\n",
       "      <td>RT @sussenglish: The big banks reported #earni...</td>\n",
       "      <td>0</td>\n",
       "      <td>[earnings, BankofAmerica, WellsFargo]</td>\n",
       "      <td></td>\n",
       "    </tr>\n",
       "    <tr>\n",
       "      <th>1</th>\n",
       "      <td>sussenglish</td>\n",
       "      <td>Fri Apr 24 16:41:54 +0000 2020</td>\n",
       "      <td>The big banks reported #earnings last week.Thi...</td>\n",
       "      <td>1</td>\n",
       "      <td>[earnings, BankofAmerica, WellsFargo]</td>\n",
       "      <td>Argentina</td>\n",
       "    </tr>\n",
       "    <tr>\n",
       "      <th>2</th>\n",
       "      <td>datoeconomia</td>\n",
       "      <td>Fri Apr 24 16:18:01 +0000 2020</td>\n",
       "      <td>#OOTT #OIL \\n#BankofAmerica has advised client...</td>\n",
       "      <td>1</td>\n",
       "      <td>[OOTT, OIL, BankofAmerica]</td>\n",
       "      <td></td>\n",
       "    </tr>\n",
       "    <tr>\n",
       "      <th>3</th>\n",
       "      <td>dapinski</td>\n",
       "      <td>Fri Apr 24 16:14:23 +0000 2020</td>\n",
       "      <td>Anyone that continues to say that the big #ban...</td>\n",
       "      <td>0</td>\n",
       "      <td>[banks, JPMorgan]</td>\n",
       "      <td>Philadelphia, PA</td>\n",
       "    </tr>\n",
       "    <tr>\n",
       "      <th>4</th>\n",
       "      <td>artaronoff</td>\n",
       "      <td>Fri Apr 24 16:06:30 +0000 2020</td>\n",
       "      <td>#bankofamerica anyone home?  No one calls back...</td>\n",
       "      <td>3</td>\n",
       "      <td>[bankofamerica]</td>\n",
       "      <td></td>\n",
       "    </tr>\n",
       "  </tbody>\n",
       "</table>\n",
       "</div>"
      ],
      "text/plain": [
       "           user  ...          user_loc\n",
       "0    EyeCapital  ...                  \n",
       "1   sussenglish  ...         Argentina\n",
       "2  datoeconomia  ...                  \n",
       "3      dapinski  ...  Philadelphia, PA\n",
       "4    artaronoff  ...                  \n",
       "\n",
       "[5 rows x 6 columns]"
      ]
     },
     "execution_count": 34,
     "metadata": {
      "tags": []
     },
     "output_type": "execute_result"
    }
   ],
   "source": [
    "bofa_tweet.head()\n"
   ]
  },
  {
   "cell_type": "code",
   "execution_count": 0,
   "metadata": {
    "colab": {},
    "colab_type": "code",
    "id": "nJWgwnFa_Pj6"
   },
   "outputs": [],
   "source": [
    "bofa_tweet.to_csv(r'bofa tweets.csv',index=False, header=True)"
   ]
  },
  {
   "cell_type": "markdown",
   "metadata": {
    "colab_type": "text",
    "id": "_EZMkcX0_TWJ"
   },
   "source": [
    "#JPMorgan Chase Co. Web Scraping"
   ]
  },
  {
   "cell_type": "code",
   "execution_count": 0,
   "metadata": {
    "colab": {},
    "colab_type": "code",
    "id": "WTvA0qrn_XFD"
   },
   "outputs": [],
   "source": [
    "import re"
   ]
  },
  {
   "cell_type": "code",
   "execution_count": 0,
   "metadata": {
    "colab": {},
    "colab_type": "code",
    "id": "_vprSGKkATmC"
   },
   "outputs": [],
   "source": [
    "jpmc_url =\"https://jobs.jpmorganchase.com/ListJobs/ByCountry/US/\""
   ]
  },
  {
   "cell_type": "code",
   "execution_count": 0,
   "metadata": {
    "colab": {},
    "colab_type": "code",
    "id": "K9CdF8mDAixl"
   },
   "outputs": [],
   "source": [
    "jpmc_soup = getSoup(jpmc_url)\n",
    "#print(jpmc_soup)# , 'style':'display: block;'\n",
    "table = jpmc_soup.find('table')\n",
    "#print(table)\n",
    "\n",
    "job_name = []\n",
    "locations = []\n",
    "dates = []\n",
    "for row in table.findAll('tr'):\n",
    "  #print(row)\n",
    "  job = row.find('td', {'class': 'coloriginaljobtitle'})\n",
    "  if job != None:\n",
    "    job_name.append(job.a.text)\n",
    "  location = row.find('td', {'class':'colstate'})\n",
    "  city = row.find('td',{'class':'colcity'})\n",
    "  if location != None:\n",
    "    locations.append(city.text.strip() + \", \" +location.text.strip())\n",
    "  date_post = row.find('td',{'class':'colpostedon'}) #colpostedon\n",
    "  if date_post != None:\n",
    "    dates.append(date_post.text.strip())"
   ]
  },
  {
   "cell_type": "code",
   "execution_count": 0,
   "metadata": {
    "colab": {
     "base_uri": "https://localhost:8080/",
     "height": 510
    },
    "colab_type": "code",
    "executionInfo": {
     "elapsed": 1505,
     "status": "ok",
     "timestamp": 1587748475660,
     "user": {
      "displayName": "Vishwa Pardeshi",
      "photoUrl": "",
      "userId": "12134479053996921070"
     },
     "user_tz": -330
    },
    "id": "iCifQsnWAijm",
    "outputId": "f7eef61c-9ed5-4085-9610-505feb50415c"
   },
   "outputs": [
    {
     "data": {
      "text/plain": [
       "['Principal Collateral Operations - Regulatory IM Onboarding Team',\n",
       " 'VP, Site Reliability Engineer',\n",
       " 'Commercial Bank – Product Delivery Integrated Receivables – Receivables Online - Chicago, Dallas, Columbus, Phoenix, or Tampa - Executive Director',\n",
       " 'Commercial Bank – Product Delivery Integrated Receivables – Receivables Online - Chicago, Dallas, Columbus, Phoenix, or Tampa - Executive Director',\n",
       " 'Commercial Bank – Product Delivery Integrated Receivables – Receivables Online - Chicago, Dallas, Columbus, Phoenix, or Tampa - Executive Director',\n",
       " 'Commercial Bank – Product Delivery Integrated Receivables – Receivables Online - Chicago, Dallas, Columbus, Phoenix, or Tampa - Executive Director',\n",
       " 'Commercial Bank – Product Delivery Integrated Receivables – Receivables Online - Chicago, Dallas, Columbus, Phoenix, or Tampa - Executive Director',\n",
       " 'Commercial Banking - Wholesale Lending Services - Operations Team Leader (Chicago, IL)',\n",
       " 'Infrastructure Support - Managed File Transfer',\n",
       " 'Commercial Bank -  Collateral Release Document Processing Specialist - Wholesale Lending Services ( Chicago, IL )',\n",
       " 'Senior Operations Manager - Data Storage',\n",
       " 'Software Engineer',\n",
       " 'Software Engineering - Full Stack Java / REST / Microservices Lead',\n",
       " 'Senior Software Engineer',\n",
       " 'Network Management Infrastructure Engineer',\n",
       " 'Employee Experience - User Experience Lead',\n",
       " 'VP, Site Reliability Engineer',\n",
       " 'CIB QR - Quantitative Research - Prime Finance & Delta 1 - Associate/Vice President',\n",
       " 'Chase Consumer Banking - Pittsburgh Market - Branch Manager Trainee - Wilkinsburg Branch - Pittsburgh, PA',\n",
       " 'Chase Consumer Banking - Pittsburgh Market - Branch Manager Trainee - Wilkinsburg Branch - Pittsburgh, PA',\n",
       " 'Chase Consumer Banking - Pittsburgh Market - Branch Manager Trainee - Bridgeville Branch - Pittsburgh, PA',\n",
       " 'Chase Consumer Banking - Pittsburgh Market - Branch Manager Trainee - Bridgeville Branch - Pittsburgh, PA',\n",
       " 'Chase Consumer Banking - Pittsburgh Market - Branch Manager Trainee - Sewickley Branch - Pittsburgh, PA',\n",
       " 'Chase Consumer Banking - Pittsburgh Market - Branch Manager Trainee - Sewickley Branch - Pittsburgh, PA',\n",
       " 'Chae Consumer Banking - Pittsburgh Market - Branch Manager Trainee - Oakland Branch - Pittsburgh, PA',\n",
       " 'Chase Consumer Banking - Mid-Atlantic Region - Private Client Banker - Pikesville East Branch - Baltimore, MD',\n",
       " 'Chase Consumer Banking - Mid-Atlantic Region - Private Client Banker - Pikesville East Branch - Baltimore, MD',\n",
       " 'Chase Consumer Banking - Mid-Atlantic Region - Relationship Banker - Pikesville East Branch - Baltimore, MD',\n",
       " 'Chase Consumer Banking - Mid-Atlantic Region - Relationship Banker - Pikesville East Branch - Baltimore, MD',\n",
       " 'Chase Consumer Banking - Mid-Atlantic Region - Relationship Banker - Connecticut Avenue and Porter Street Branch - Washington, DC']"
      ]
     },
     "execution_count": 41,
     "metadata": {
      "tags": []
     },
     "output_type": "execute_result"
    }
   ],
   "source": [
    "job_name"
   ]
  },
  {
   "cell_type": "code",
   "execution_count": 0,
   "metadata": {
    "colab": {
     "base_uri": "https://localhost:8080/",
     "height": 510
    },
    "colab_type": "code",
    "executionInfo": {
     "elapsed": 848,
     "status": "ok",
     "timestamp": 1587748475661,
     "user": {
      "displayName": "Vishwa Pardeshi",
      "photoUrl": "",
      "userId": "12134479053996921070"
     },
     "user_tz": -330
    },
    "id": "MJ5sM-GFAigz",
    "outputId": "bde0e514-9933-44e6-bd42-52b54c5af49c"
   },
   "outputs": [
    {
     "data": {
      "text/plain": [
       "['Newark, DE',\n",
       " 'Wilmington, DE',\n",
       " 'Tempe, AZ',\n",
       " 'Tampa, FL',\n",
       " 'Dallas, TX',\n",
       " 'Columbus, OH',\n",
       " 'Chicago, IL',\n",
       " 'Chicago, IL',\n",
       " 'Lewisville, TX',\n",
       " 'Chicago, IL',\n",
       " 'Houston, TX',\n",
       " 'Houston, TX',\n",
       " 'Tampa, FL',\n",
       " 'Houston, TX',\n",
       " 'Columbus, OH',\n",
       " 'Jersey City, NJ',\n",
       " 'Wilmington, DE',\n",
       " 'New York, NY',\n",
       " 'Pittsburgh, PA',\n",
       " 'Pittsburgh, PA',\n",
       " 'Bridgeville, PA',\n",
       " 'Pittsburgh, PA',\n",
       " 'Sewickley, PA',\n",
       " 'Pittsburgh, PA',\n",
       " 'Pittsburgh, PA',\n",
       " 'Baltimore, MD',\n",
       " 'Baltimore, MD',\n",
       " 'Baltimore, MD',\n",
       " 'Baltimore, MD',\n",
       " 'Washington, DC']"
      ]
     },
     "execution_count": 42,
     "metadata": {
      "tags": []
     },
     "output_type": "execute_result"
    }
   ],
   "source": [
    "locations"
   ]
  },
  {
   "cell_type": "code",
   "execution_count": 0,
   "metadata": {
    "colab": {},
    "colab_type": "code",
    "id": "0OzsvJ0FAiaZ"
   },
   "outputs": [],
   "source": [
    "#df name \n",
    "jpmc_df = getJobsDf(job_name, locations, dates)"
   ]
  },
  {
   "cell_type": "code",
   "execution_count": 0,
   "metadata": {
    "colab": {
     "base_uri": "https://localhost:8080/",
     "height": 201
    },
    "colab_type": "code",
    "executionInfo": {
     "elapsed": 1100,
     "status": "ok",
     "timestamp": 1587748526708,
     "user": {
      "displayName": "Vishwa Pardeshi",
      "photoUrl": "",
      "userId": "12134479053996921070"
     },
     "user_tz": -330
    },
    "id": "F52ffhHAAiVd",
    "outputId": "e57c7359-4a51-4b08-b18f-e959a0cf5496"
   },
   "outputs": [
    {
     "data": {
      "text/html": [
       "<div>\n",
       "<style scoped>\n",
       "    .dataframe tbody tr th:only-of-type {\n",
       "        vertical-align: middle;\n",
       "    }\n",
       "\n",
       "    .dataframe tbody tr th {\n",
       "        vertical-align: top;\n",
       "    }\n",
       "\n",
       "    .dataframe thead th {\n",
       "        text-align: right;\n",
       "    }\n",
       "</style>\n",
       "<table border=\"1\" class=\"dataframe\">\n",
       "  <thead>\n",
       "    <tr style=\"text-align: right;\">\n",
       "      <th></th>\n",
       "      <th>Job Name</th>\n",
       "      <th>Location</th>\n",
       "      <th>Date Posted</th>\n",
       "    </tr>\n",
       "  </thead>\n",
       "  <tbody>\n",
       "    <tr>\n",
       "      <th>0</th>\n",
       "      <td>Principal Collateral Operations - Regulatory I...</td>\n",
       "      <td>Newark, DE</td>\n",
       "      <td>4-24-2020</td>\n",
       "    </tr>\n",
       "    <tr>\n",
       "      <th>1</th>\n",
       "      <td>VP, Site Reliability Engineer</td>\n",
       "      <td>Wilmington, DE</td>\n",
       "      <td>4-24-2020</td>\n",
       "    </tr>\n",
       "    <tr>\n",
       "      <th>2</th>\n",
       "      <td>Commercial Bank – Product Delivery Integrated ...</td>\n",
       "      <td>Tempe, AZ</td>\n",
       "      <td>4-24-2020</td>\n",
       "    </tr>\n",
       "    <tr>\n",
       "      <th>3</th>\n",
       "      <td>Commercial Bank – Product Delivery Integrated ...</td>\n",
       "      <td>Tampa, FL</td>\n",
       "      <td>4-24-2020</td>\n",
       "    </tr>\n",
       "    <tr>\n",
       "      <th>4</th>\n",
       "      <td>Commercial Bank – Product Delivery Integrated ...</td>\n",
       "      <td>Dallas, TX</td>\n",
       "      <td>4-24-2020</td>\n",
       "    </tr>\n",
       "  </tbody>\n",
       "</table>\n",
       "</div>"
      ],
      "text/plain": [
       "                                            Job Name  ... Date Posted\n",
       "0  Principal Collateral Operations - Regulatory I...  ...   4-24-2020\n",
       "1                      VP, Site Reliability Engineer  ...   4-24-2020\n",
       "2  Commercial Bank – Product Delivery Integrated ...  ...   4-24-2020\n",
       "3  Commercial Bank – Product Delivery Integrated ...  ...   4-24-2020\n",
       "4  Commercial Bank – Product Delivery Integrated ...  ...   4-24-2020\n",
       "\n",
       "[5 rows x 3 columns]"
      ]
     },
     "execution_count": 44,
     "metadata": {
      "tags": []
     },
     "output_type": "execute_result"
    }
   ],
   "source": [
    "jpmc_df.head()"
   ]
  },
  {
   "cell_type": "code",
   "execution_count": 0,
   "metadata": {
    "colab": {},
    "colab_type": "code",
    "id": "gRmt6VFmAiS1"
   },
   "outputs": [],
   "source": [
    "#for internship\n",
    "jpmc_df.to_csv(r'jpmorganchase_job_list.csv',index=False, header=True)"
   ]
  },
  {
   "cell_type": "markdown",
   "metadata": {
    "colab_type": "text",
    "id": "vPrB4Sq5A7T8"
   },
   "source": [
    "# JPMorgan Chase Co. Twitter Data"
   ]
  },
  {
   "cell_type": "code",
   "execution_count": 0,
   "metadata": {
    "colab": {},
    "colab_type": "code",
    "id": "quAbj_ImBKLr"
   },
   "outputs": [],
   "source": [
    "# Structure data in a pandas DataFrame for easier manipulation\n",
    "jpmc_tweets = getTaggedTweets(\"#jpmorganchase\")"
   ]
  },
  {
   "cell_type": "code",
   "execution_count": 0,
   "metadata": {
    "colab": {
     "base_uri": "https://localhost:8080/",
     "height": 201
    },
    "colab_type": "code",
    "executionInfo": {
     "elapsed": 969,
     "status": "ok",
     "timestamp": 1587748614569,
     "user": {
      "displayName": "Vishwa Pardeshi",
      "photoUrl": "",
      "userId": "12134479053996921070"
     },
     "user_tz": -330
    },
    "id": "MurGbisCMSbg",
    "outputId": "66a92f75-126c-449f-b227-60fd41cd9dfc"
   },
   "outputs": [
    {
     "data": {
      "text/html": [
       "<div>\n",
       "<style scoped>\n",
       "    .dataframe tbody tr th:only-of-type {\n",
       "        vertical-align: middle;\n",
       "    }\n",
       "\n",
       "    .dataframe tbody tr th {\n",
       "        vertical-align: top;\n",
       "    }\n",
       "\n",
       "    .dataframe thead th {\n",
       "        text-align: right;\n",
       "    }\n",
       "</style>\n",
       "<table border=\"1\" class=\"dataframe\">\n",
       "  <thead>\n",
       "    <tr style=\"text-align: right;\">\n",
       "      <th></th>\n",
       "      <th>user</th>\n",
       "      <th>date</th>\n",
       "      <th>text</th>\n",
       "      <th>favorite_count</th>\n",
       "      <th>hashtags</th>\n",
       "      <th>user_loc</th>\n",
       "    </tr>\n",
       "  </thead>\n",
       "  <tbody>\n",
       "    <tr>\n",
       "      <th>0</th>\n",
       "      <td>EyeCapital</td>\n",
       "      <td>Fri Apr 24 16:42:52 +0000 2020</td>\n",
       "      <td>RT @sussenglish: The big banks reported #earni...</td>\n",
       "      <td>0</td>\n",
       "      <td>[earnings, BankofAmerica, WellsFargo]</td>\n",
       "      <td></td>\n",
       "    </tr>\n",
       "    <tr>\n",
       "      <th>1</th>\n",
       "      <td>sussenglish</td>\n",
       "      <td>Fri Apr 24 16:41:54 +0000 2020</td>\n",
       "      <td>The big banks reported #earnings last week.Thi...</td>\n",
       "      <td>1</td>\n",
       "      <td>[earnings, BankofAmerica, WellsFargo]</td>\n",
       "      <td>Argentina</td>\n",
       "    </tr>\n",
       "    <tr>\n",
       "      <th>2</th>\n",
       "      <td>jktv</td>\n",
       "      <td>Fri Apr 24 14:40:29 +0000 2020</td>\n",
       "      <td>Update on #PPPloans from the #SBA. Reports tha...</td>\n",
       "      <td>0</td>\n",
       "      <td>[PPPloans, SBA]</td>\n",
       "      <td>Chicago, IL</td>\n",
       "    </tr>\n",
       "    <tr>\n",
       "      <th>3</th>\n",
       "      <td>learn__together</td>\n",
       "      <td>Fri Apr 24 11:28:32 +0000 2020</td>\n",
       "      <td>RT @ishukhanchi: Today, I have successfully co...</td>\n",
       "      <td>0</td>\n",
       "      <td>[]</td>\n",
       "      <td>Japan</td>\n",
       "    </tr>\n",
       "    <tr>\n",
       "      <th>4</th>\n",
       "      <td>femtech_</td>\n",
       "      <td>Fri Apr 24 11:28:32 +0000 2020</td>\n",
       "      <td>RT @ishukhanchi: Today, I have successfully co...</td>\n",
       "      <td>0</td>\n",
       "      <td>[]</td>\n",
       "      <td>Berlin, Deutschland</td>\n",
       "    </tr>\n",
       "  </tbody>\n",
       "</table>\n",
       "</div>"
      ],
      "text/plain": [
       "              user  ...             user_loc\n",
       "0       EyeCapital  ...                     \n",
       "1      sussenglish  ...            Argentina\n",
       "2             jktv  ...          Chicago, IL\n",
       "3  learn__together  ...                Japan\n",
       "4         femtech_  ...  Berlin, Deutschland\n",
       "\n",
       "[5 rows x 6 columns]"
      ]
     },
     "execution_count": 48,
     "metadata": {
      "tags": []
     },
     "output_type": "execute_result"
    }
   ],
   "source": [
    "jpmc_tweets.head(5)"
   ]
  },
  {
   "cell_type": "code",
   "execution_count": 0,
   "metadata": {
    "colab": {},
    "colab_type": "code",
    "id": "G_uc8RflMYNQ"
   },
   "outputs": [],
   "source": [
    "jpmc_tweets.to_csv(\"JPMC_twitter.csv\")"
   ]
  },
  {
   "cell_type": "markdown",
   "metadata": {
    "colab_type": "text",
    "id": "zSlIYKy6BQwK"
   },
   "source": [
    "# Wells Fargo Web Scraping"
   ]
  },
  {
   "cell_type": "code",
   "execution_count": 0,
   "metadata": {
    "colab": {},
    "colab_type": "code",
    "id": "VwFi7kw2BjD1"
   },
   "outputs": [],
   "source": [
    "wells_url='https://employment.wellsfargo.com/psc/PSEA/APPLICANT_NW/HRMS/c/HRS_HRAM_FL.HRS_CG_SEARCH_FL.GBL?Page=HRS_APP_SCHJOB_FL&Action=U'"
   ]
  },
  {
   "cell_type": "code",
   "execution_count": 0,
   "metadata": {
    "colab": {
     "base_uri": "https://localhost:8080/",
     "height": 1000
    },
    "colab_type": "code",
    "executionInfo": {
     "elapsed": 9521,
     "status": "ok",
     "timestamp": 1587748746155,
     "user": {
      "displayName": "Vishwa Pardeshi",
      "photoUrl": "",
      "userId": "12134479053996921070"
     },
     "user_tz": -330
    },
    "id": "nfEHgFdaBjBD",
    "outputId": "62432a2f-541b-42e0-9965-f1c21a6a755b"
   },
   "outputs": [
    {
     "name": "stdout",
     "output_type": "stream",
     "text": [
      "<ul class=\"ps_grid-body\"><li class=\"ps_grid-row\" id=\"PTS_FACETVALUES$0_row_0\">\n",
      "<div class=\"ps_box-group psc_layout\" id=\"win0divPTS_GROUP_BOX$0\">\n",
      "<div class=\"ps_box-checkbox psc_standard psc_margin-top0_2em pts_fontweight-normal\" id=\"win0divPTS_SELECT$0\"><input class=\"psc_off\" id=\"PTS_SELECT$chk$0\" type=\"hidden\" value=\"N\"/>\n",
      "<div class=\"ps_box-control\" id=\"win0divPTS_SELECTctrl$0\" onclick=\"doRadioOuterClick(this);cancelBubble(event);\"><input class=\"ps-checkbox\" id=\"PTS_SELECT$0\" onblur=\"clearOutline(this.nextElementSibling);\" onclick=\"doRadioClick(this, 'PTS_SELECT$chk$0');addchg_win0(this);submitAction_win0(this.form,this.id);\" onfocus=\"setOutlineTimer(this.id);doFocus_win0(this,false,true);\" psnchg=\"0\" ptchecked_val=\"Y\" ptunchecked_val=\"N\" title=\"Alabama (12)\" type=\"checkbox\" value=\"Y\"/><label class=\"ps_indicator\" for=\"PTS_SELECT$0\" ptchecked_text=\"Yes\" ptunchecked_text=\"No\"><span class=\"psc_on_container\">Yes</span><span class=\"psc_off_container\">No</span></label></div><div class=\"ps_box-label ps_right\" id=\"win0divPTS_SELECTlbl$0\"><label class=\"ps-label\" for=\"PTS_SELECT$0\" id=\"PTS_SELECT_LBL$0\">Alabama (12)</label></div>\n",
      "</div></div></li><li class=\"ps_grid-row\" id=\"PTS_FACETVALUES$0_row_1\">\n",
      "<div class=\"ps_box-group psc_layout\" id=\"win0divPTS_GROUP_BOX$1\">\n",
      "<div class=\"ps_box-checkbox psc_standard psc_margin-top0_2em pts_fontweight-normal\" id=\"win0divPTS_SELECT$1\"><input class=\"psc_off\" id=\"PTS_SELECT$chk$1\" type=\"hidden\" value=\"N\"/>\n",
      "<div class=\"ps_box-control\" id=\"win0divPTS_SELECTctrl$1\" onclick=\"doRadioOuterClick(this);cancelBubble(event);\"><input class=\"ps-checkbox\" id=\"PTS_SELECT$1\" onblur=\"clearOutline(this.nextElementSibling);\" onclick=\"doRadioClick(this, 'PTS_SELECT$chk$1');addchg_win0(this);submitAction_win0(this.form,this.id);\" onfocus=\"setOutlineTimer(this.id);doFocus_win0(this,false,true);\" psnchg=\"0\" ptchecked_val=\"Y\" ptunchecked_val=\"N\" title=\"Alaska (4)\" type=\"checkbox\" value=\"Y\"/><label class=\"ps_indicator\" for=\"PTS_SELECT$1\" ptchecked_text=\"Yes\" ptunchecked_text=\"No\"><span class=\"psc_on_container\">Yes</span><span class=\"psc_off_container\">No</span></label></div><div class=\"ps_box-label ps_right\" id=\"win0divPTS_SELECTlbl$1\"><label class=\"ps-label\" for=\"PTS_SELECT$1\" id=\"PTS_SELECT_LBL$1\">Alaska (4)</label></div>\n",
      "</div></div></li><li class=\"ps_grid-row\" id=\"PTS_FACETVALUES$0_row_2\">\n",
      "<div class=\"ps_box-group psc_layout\" id=\"win0divPTS_GROUP_BOX$2\">\n",
      "<div class=\"ps_box-checkbox psc_standard psc_margin-top0_2em pts_fontweight-normal\" id=\"win0divPTS_SELECT$2\"><input class=\"psc_off\" id=\"PTS_SELECT$chk$2\" type=\"hidden\" value=\"N\"/>\n",
      "<div class=\"ps_box-control\" id=\"win0divPTS_SELECTctrl$2\" onclick=\"doRadioOuterClick(this);cancelBubble(event);\"><input class=\"ps-checkbox\" id=\"PTS_SELECT$2\" onblur=\"clearOutline(this.nextElementSibling);\" onclick=\"doRadioClick(this, 'PTS_SELECT$chk$2');addchg_win0(this);submitAction_win0(this.form,this.id);\" onfocus=\"setOutlineTimer(this.id);doFocus_win0(this,false,true);\" psnchg=\"0\" ptchecked_val=\"Y\" ptunchecked_val=\"N\" title=\"Arizona (317)\" type=\"checkbox\" value=\"Y\"/><label class=\"ps_indicator\" for=\"PTS_SELECT$2\" ptchecked_text=\"Yes\" ptunchecked_text=\"No\"><span class=\"psc_on_container\">Yes</span><span class=\"psc_off_container\">No</span></label></div><div class=\"ps_box-label ps_right\" id=\"win0divPTS_SELECTlbl$2\"><label class=\"ps-label\" for=\"PTS_SELECT$2\" id=\"PTS_SELECT_LBL$2\">Arizona (317)</label></div>\n",
      "</div></div></li><li class=\"ps_grid-row\" id=\"PTS_FACETVALUES$0_row_3\">\n",
      "<div class=\"ps_box-group psc_layout\" id=\"win0divPTS_GROUP_BOX$3\">\n",
      "<div class=\"ps_box-checkbox psc_standard psc_margin-top0_2em pts_fontweight-normal\" id=\"win0divPTS_SELECT$3\"><input class=\"psc_off\" id=\"PTS_SELECT$chk$3\" type=\"hidden\" value=\"N\"/>\n",
      "<div class=\"ps_box-control\" id=\"win0divPTS_SELECTctrl$3\" onclick=\"doRadioOuterClick(this);cancelBubble(event);\"><input class=\"ps-checkbox\" id=\"PTS_SELECT$3\" onblur=\"clearOutline(this.nextElementSibling);\" onclick=\"doRadioClick(this, 'PTS_SELECT$chk$3');addchg_win0(this);submitAction_win0(this.form,this.id);\" onfocus=\"setOutlineTimer(this.id);doFocus_win0(this,false,true);\" psnchg=\"0\" ptchecked_val=\"Y\" ptunchecked_val=\"N\" title=\"Arkansas (1)\" type=\"checkbox\" value=\"Y\"/><label class=\"ps_indicator\" for=\"PTS_SELECT$3\" ptchecked_text=\"Yes\" ptunchecked_text=\"No\"><span class=\"psc_on_container\">Yes</span><span class=\"psc_off_container\">No</span></label></div><div class=\"ps_box-label ps_right\" id=\"win0divPTS_SELECTlbl$3\"><label class=\"ps-label\" for=\"PTS_SELECT$3\" id=\"PTS_SELECT_LBL$3\">Arkansas (1)</label></div>\n",
      "</div></div></li><li class=\"ps_grid-row\" id=\"PTS_FACETVALUES$0_row_4\">\n",
      "<div class=\"ps_box-group psc_layout\" id=\"win0divPTS_GROUP_BOX$4\">\n",
      "<div class=\"ps_box-checkbox psc_standard psc_margin-top0_2em pts_fontweight-normal\" id=\"win0divPTS_SELECT$4\"><input class=\"psc_off\" id=\"PTS_SELECT$chk$4\" type=\"hidden\" value=\"N\"/>\n",
      "<div class=\"ps_box-control\" id=\"win0divPTS_SELECTctrl$4\" onclick=\"doRadioOuterClick(this);cancelBubble(event);\"><input class=\"ps-checkbox\" id=\"PTS_SELECT$4\" onblur=\"clearOutline(this.nextElementSibling);\" onclick=\"doRadioClick(this, 'PTS_SELECT$chk$4');addchg_win0(this);submitAction_win0(this.form,this.id);\" onfocus=\"setOutlineTimer(this.id);doFocus_win0(this,false,true);\" psnchg=\"0\" ptchecked_val=\"Y\" ptunchecked_val=\"N\" title=\"California (159)\" type=\"checkbox\" value=\"Y\"/><label class=\"ps_indicator\" for=\"PTS_SELECT$4\" ptchecked_text=\"Yes\" ptunchecked_text=\"No\"><span class=\"psc_on_container\">Yes</span><span class=\"psc_off_container\">No</span></label></div><div class=\"ps_box-label ps_right\" id=\"win0divPTS_SELECTlbl$4\"><label class=\"ps-label\" for=\"PTS_SELECT$4\" id=\"PTS_SELECT_LBL$4\">California (159)</label></div>\n",
      "</div></div></li><li class=\"ps_grid-row\" id=\"PTS_FACETVALUES$0_row_5\">\n",
      "<div class=\"ps_box-group psc_layout\" id=\"win0divPTS_GROUP_BOX$5\">\n",
      "<div class=\"ps_box-checkbox psc_standard psc_margin-top0_2em pts_fontweight-normal\" id=\"win0divPTS_SELECT$5\"><input class=\"psc_off\" id=\"PTS_SELECT$chk$5\" type=\"hidden\" value=\"N\"/>\n",
      "<div class=\"ps_box-control\" id=\"win0divPTS_SELECTctrl$5\" onclick=\"doRadioOuterClick(this);cancelBubble(event);\"><input class=\"ps-checkbox\" id=\"PTS_SELECT$5\" onblur=\"clearOutline(this.nextElementSibling);\" onclick=\"doRadioClick(this, 'PTS_SELECT$chk$5');addchg_win0(this);submitAction_win0(this.form,this.id);\" onfocus=\"setOutlineTimer(this.id);doFocus_win0(this,false,true);\" psnchg=\"0\" ptchecked_val=\"Y\" ptunchecked_val=\"N\" title=\"Colorado (32)\" type=\"checkbox\" value=\"Y\"/><label class=\"ps_indicator\" for=\"PTS_SELECT$5\" ptchecked_text=\"Yes\" ptunchecked_text=\"No\"><span class=\"psc_on_container\">Yes</span><span class=\"psc_off_container\">No</span></label></div><div class=\"ps_box-label ps_right\" id=\"win0divPTS_SELECTlbl$5\"><label class=\"ps-label\" for=\"PTS_SELECT$5\" id=\"PTS_SELECT_LBL$5\">Colorado (32)</label></div>\n",
      "</div></div></li><li class=\"ps_grid-row\" id=\"PTS_FACETVALUES$0_row_6\">\n",
      "<div class=\"ps_box-group psc_layout\" id=\"win0divPTS_GROUP_BOX$6\">\n",
      "<div class=\"ps_box-checkbox psc_standard psc_margin-top0_2em pts_fontweight-normal\" id=\"win0divPTS_SELECT$6\"><input class=\"psc_off\" id=\"PTS_SELECT$chk$6\" type=\"hidden\" value=\"N\"/>\n",
      "<div class=\"ps_box-control\" id=\"win0divPTS_SELECTctrl$6\" onclick=\"doRadioOuterClick(this);cancelBubble(event);\"><input class=\"ps-checkbox\" id=\"PTS_SELECT$6\" onblur=\"clearOutline(this.nextElementSibling);\" onclick=\"doRadioClick(this, 'PTS_SELECT$chk$6');addchg_win0(this);submitAction_win0(this.form,this.id);\" onfocus=\"setOutlineTimer(this.id);doFocus_win0(this,false,true);\" psnchg=\"0\" ptchecked_val=\"Y\" ptunchecked_val=\"N\" title=\"Connecticut (9)\" type=\"checkbox\" value=\"Y\"/><label class=\"ps_indicator\" for=\"PTS_SELECT$6\" ptchecked_text=\"Yes\" ptunchecked_text=\"No\"><span class=\"psc_on_container\">Yes</span><span class=\"psc_off_container\">No</span></label></div><div class=\"ps_box-label ps_right\" id=\"win0divPTS_SELECTlbl$6\"><label class=\"ps-label\" for=\"PTS_SELECT$6\" id=\"PTS_SELECT_LBL$6\">Connecticut (9)</label></div>\n",
      "</div></div></li><li class=\"ps_grid-row\" id=\"PTS_FACETVALUES$0_row_7\">\n",
      "<div class=\"ps_box-group psc_layout\" id=\"win0divPTS_GROUP_BOX$7\">\n",
      "<div class=\"ps_box-checkbox psc_standard psc_margin-top0_2em pts_fontweight-normal\" id=\"win0divPTS_SELECT$7\"><input class=\"psc_off\" id=\"PTS_SELECT$chk$7\" type=\"hidden\" value=\"N\"/>\n",
      "<div class=\"ps_box-control\" id=\"win0divPTS_SELECTctrl$7\" onclick=\"doRadioOuterClick(this);cancelBubble(event);\"><input class=\"ps-checkbox\" id=\"PTS_SELECT$7\" onblur=\"clearOutline(this.nextElementSibling);\" onclick=\"doRadioClick(this, 'PTS_SELECT$chk$7');addchg_win0(this);submitAction_win0(this.form,this.id);\" onfocus=\"setOutlineTimer(this.id);doFocus_win0(this,false,true);\" psnchg=\"0\" ptchecked_val=\"Y\" ptunchecked_val=\"N\" title=\"Delaware (12)\" type=\"checkbox\" value=\"Y\"/><label class=\"ps_indicator\" for=\"PTS_SELECT$7\" ptchecked_text=\"Yes\" ptunchecked_text=\"No\"><span class=\"psc_on_container\">Yes</span><span class=\"psc_off_container\">No</span></label></div><div class=\"ps_box-label ps_right\" id=\"win0divPTS_SELECTlbl$7\"><label class=\"ps-label\" for=\"PTS_SELECT$7\" id=\"PTS_SELECT_LBL$7\">Delaware (12)</label></div>\n",
      "</div></div></li><li class=\"ps_grid-row\" id=\"PTS_FACETVALUES$0_row_8\">\n",
      "<div class=\"ps_box-group psc_layout\" id=\"win0divPTS_GROUP_BOX$8\">\n",
      "<div class=\"ps_box-checkbox psc_standard psc_margin-top0_2em pts_fontweight-normal\" id=\"win0divPTS_SELECT$8\"><input class=\"psc_off\" id=\"PTS_SELECT$chk$8\" type=\"hidden\" value=\"N\"/>\n",
      "<div class=\"ps_box-control\" id=\"win0divPTS_SELECTctrl$8\" onclick=\"doRadioOuterClick(this);cancelBubble(event);\"><input class=\"ps-checkbox\" id=\"PTS_SELECT$8\" onblur=\"clearOutline(this.nextElementSibling);\" onclick=\"doRadioClick(this, 'PTS_SELECT$chk$8');addchg_win0(this);submitAction_win0(this.form,this.id);\" onfocus=\"setOutlineTimer(this.id);doFocus_win0(this,false,true);\" psnchg=\"0\" ptchecked_val=\"Y\" ptunchecked_val=\"N\" title=\"District of Columbia (6)\" type=\"checkbox\" value=\"Y\"/><label class=\"ps_indicator\" for=\"PTS_SELECT$8\" ptchecked_text=\"Yes\" ptunchecked_text=\"No\"><span class=\"psc_on_container\">Yes</span><span class=\"psc_off_container\">No</span></label></div><div class=\"ps_box-label ps_right\" id=\"win0divPTS_SELECTlbl$8\"><label class=\"ps-label\" for=\"PTS_SELECT$8\" id=\"PTS_SELECT_LBL$8\">District of Columbia (6)</label></div>\n",
      "</div></div></li><li class=\"ps_grid-row\" id=\"PTS_FACETVALUES$0_row_9\">\n",
      "<div class=\"ps_box-group psc_layout\" id=\"win0divPTS_GROUP_BOX$9\">\n",
      "<div class=\"ps_box-checkbox psc_standard psc_margin-top0_2em pts_fontweight-normal\" id=\"win0divPTS_SELECT$9\"><input class=\"psc_off\" id=\"PTS_SELECT$chk$9\" type=\"hidden\" value=\"N\"/>\n",
      "<div class=\"ps_box-control\" id=\"win0divPTS_SELECTctrl$9\" onclick=\"doRadioOuterClick(this);cancelBubble(event);\"><input class=\"ps-checkbox\" id=\"PTS_SELECT$9\" onblur=\"clearOutline(this.nextElementSibling);\" onclick=\"doRadioClick(this, 'PTS_SELECT$chk$9');addchg_win0(this);submitAction_win0(this.form,this.id);\" onfocus=\"setOutlineTimer(this.id);doFocus_win0(this,false,true);\" psnchg=\"0\" ptchecked_val=\"Y\" ptunchecked_val=\"N\" title=\"Florida (30)\" type=\"checkbox\" value=\"Y\"/><label class=\"ps_indicator\" for=\"PTS_SELECT$9\" ptchecked_text=\"Yes\" ptunchecked_text=\"No\"><span class=\"psc_on_container\">Yes</span><span class=\"psc_off_container\">No</span></label></div><div class=\"ps_box-label ps_right\" id=\"win0divPTS_SELECTlbl$9\"><label class=\"ps-label\" for=\"PTS_SELECT$9\" id=\"PTS_SELECT_LBL$9\">Florida (30)</label></div>\n",
      "</div></div></li><li class=\"ps_grid-row\" id=\"PTS_FACETVALUES$0_row_10\">\n",
      "<div class=\"ps_box-group psc_layout\" id=\"win0divPTS_GROUP_BOX$10\">\n",
      "<div class=\"ps_box-checkbox psc_standard psc_margin-top0_2em pts_fontweight-normal\" id=\"win0divPTS_SELECT$10\"><input class=\"psc_off\" id=\"PTS_SELECT$chk$10\" type=\"hidden\" value=\"N\"/>\n",
      "<div class=\"ps_box-control\" id=\"win0divPTS_SELECTctrl$10\" onclick=\"doRadioOuterClick(this);cancelBubble(event);\"><input class=\"ps-checkbox\" id=\"PTS_SELECT$10\" onblur=\"clearOutline(this.nextElementSibling);\" onclick=\"doRadioClick(this, 'PTS_SELECT$chk$10');addchg_win0(this);submitAction_win0(this.form,this.id);\" onfocus=\"setOutlineTimer(this.id);doFocus_win0(this,false,true);\" psnchg=\"0\" ptchecked_val=\"Y\" ptunchecked_val=\"N\" title=\"Georgia (28)\" type=\"checkbox\" value=\"Y\"/><label class=\"ps_indicator\" for=\"PTS_SELECT$10\" ptchecked_text=\"Yes\" ptunchecked_text=\"No\"><span class=\"psc_on_container\">Yes</span><span class=\"psc_off_container\">No</span></label></div><div class=\"ps_box-label ps_right\" id=\"win0divPTS_SELECTlbl$10\"><label class=\"ps-label\" for=\"PTS_SELECT$10\" id=\"PTS_SELECT_LBL$10\">Georgia (28)</label></div>\n",
      "</div></div></li><li class=\"ps_grid-row\" id=\"PTS_FACETVALUES$0_row_11\">\n",
      "<div class=\"ps_box-group psc_layout\" id=\"win0divPTS_GROUP_BOX$11\">\n",
      "<div class=\"ps_box-checkbox psc_standard psc_margin-top0_2em pts_fontweight-normal\" id=\"win0divPTS_SELECT$11\"><input class=\"psc_off\" id=\"PTS_SELECT$chk$11\" type=\"hidden\" value=\"N\"/>\n",
      "<div class=\"ps_box-control\" id=\"win0divPTS_SELECTctrl$11\" onclick=\"doRadioOuterClick(this);cancelBubble(event);\"><input class=\"ps-checkbox\" id=\"PTS_SELECT$11\" onblur=\"clearOutline(this.nextElementSibling);\" onclick=\"doRadioClick(this, 'PTS_SELECT$chk$11');addchg_win0(this);submitAction_win0(this.form,this.id);\" onfocus=\"setOutlineTimer(this.id);doFocus_win0(this,false,true);\" psnchg=\"0\" ptchecked_val=\"Y\" ptunchecked_val=\"N\" title=\"Idaho (5)\" type=\"checkbox\" value=\"Y\"/><label class=\"ps_indicator\" for=\"PTS_SELECT$11\" ptchecked_text=\"Yes\" ptunchecked_text=\"No\"><span class=\"psc_on_container\">Yes</span><span class=\"psc_off_container\">No</span></label></div><div class=\"ps_box-label ps_right\" id=\"win0divPTS_SELECTlbl$11\"><label class=\"ps-label\" for=\"PTS_SELECT$11\" id=\"PTS_SELECT_LBL$11\">Idaho (5)</label></div>\n",
      "</div></div></li><li class=\"ps_grid-row\" id=\"PTS_FACETVALUES$0_row_12\">\n",
      "<div class=\"ps_box-group psc_layout\" id=\"win0divPTS_GROUP_BOX$12\">\n",
      "<div class=\"ps_box-checkbox psc_standard psc_margin-top0_2em pts_fontweight-normal\" id=\"win0divPTS_SELECT$12\"><input class=\"psc_off\" id=\"PTS_SELECT$chk$12\" type=\"hidden\" value=\"N\"/>\n",
      "<div class=\"ps_box-control\" id=\"win0divPTS_SELECTctrl$12\" onclick=\"doRadioOuterClick(this);cancelBubble(event);\"><input class=\"ps-checkbox\" id=\"PTS_SELECT$12\" onblur=\"clearOutline(this.nextElementSibling);\" onclick=\"doRadioClick(this, 'PTS_SELECT$chk$12');addchg_win0(this);submitAction_win0(this.form,this.id);\" onfocus=\"setOutlineTimer(this.id);doFocus_win0(this,false,true);\" psnchg=\"0\" ptchecked_val=\"Y\" ptunchecked_val=\"N\" title=\"Illinois (139)\" type=\"checkbox\" value=\"Y\"/><label class=\"ps_indicator\" for=\"PTS_SELECT$12\" ptchecked_text=\"Yes\" ptunchecked_text=\"No\"><span class=\"psc_on_container\">Yes</span><span class=\"psc_off_container\">No</span></label></div><div class=\"ps_box-label ps_right\" id=\"win0divPTS_SELECTlbl$12\"><label class=\"ps-label\" for=\"PTS_SELECT$12\" id=\"PTS_SELECT_LBL$12\">Illinois (139)</label></div>\n",
      "</div></div></li><li class=\"ps_grid-row\" id=\"PTS_FACETVALUES$0_row_13\">\n",
      "<div class=\"ps_box-group psc_layout\" id=\"win0divPTS_GROUP_BOX$13\">\n",
      "<div class=\"ps_box-checkbox psc_standard psc_margin-top0_2em pts_fontweight-normal\" id=\"win0divPTS_SELECT$13\"><input class=\"psc_off\" id=\"PTS_SELECT$chk$13\" type=\"hidden\" value=\"N\"/>\n",
      "<div class=\"ps_box-control\" id=\"win0divPTS_SELECTctrl$13\" onclick=\"doRadioOuterClick(this);cancelBubble(event);\"><input class=\"ps-checkbox\" id=\"PTS_SELECT$13\" onblur=\"clearOutline(this.nextElementSibling);\" onclick=\"doRadioClick(this, 'PTS_SELECT$chk$13');addchg_win0(this);submitAction_win0(this.form,this.id);\" onfocus=\"setOutlineTimer(this.id);doFocus_win0(this,false,true);\" psnchg=\"0\" ptchecked_val=\"Y\" ptunchecked_val=\"N\" title=\"Indiana (3)\" type=\"checkbox\" value=\"Y\"/><label class=\"ps_indicator\" for=\"PTS_SELECT$13\" ptchecked_text=\"Yes\" ptunchecked_text=\"No\"><span class=\"psc_on_container\">Yes</span><span class=\"psc_off_container\">No</span></label></div><div class=\"ps_box-label ps_right\" id=\"win0divPTS_SELECTlbl$13\"><label class=\"ps-label\" for=\"PTS_SELECT$13\" id=\"PTS_SELECT_LBL$13\">Indiana (3)</label></div>\n",
      "</div></div></li><li class=\"ps_grid-row\" id=\"PTS_FACETVALUES$0_row_14\">\n",
      "<div class=\"ps_box-group psc_layout\" id=\"win0divPTS_GROUP_BOX$14\">\n",
      "<div class=\"ps_box-checkbox psc_standard psc_margin-top0_2em pts_fontweight-normal\" id=\"win0divPTS_SELECT$14\"><input class=\"psc_off\" id=\"PTS_SELECT$chk$14\" type=\"hidden\" value=\"N\"/>\n",
      "<div class=\"ps_box-control\" id=\"win0divPTS_SELECTctrl$14\" onclick=\"doRadioOuterClick(this);cancelBubble(event);\"><input class=\"ps-checkbox\" id=\"PTS_SELECT$14\" onblur=\"clearOutline(this.nextElementSibling);\" onclick=\"doRadioClick(this, 'PTS_SELECT$chk$14');addchg_win0(this);submitAction_win0(this.form,this.id);\" onfocus=\"setOutlineTimer(this.id);doFocus_win0(this,false,true);\" psnchg=\"0\" ptchecked_val=\"Y\" ptunchecked_val=\"N\" title=\"Iowa (215)\" type=\"checkbox\" value=\"Y\"/><label class=\"ps_indicator\" for=\"PTS_SELECT$14\" ptchecked_text=\"Yes\" ptunchecked_text=\"No\"><span class=\"psc_on_container\">Yes</span><span class=\"psc_off_container\">No</span></label></div><div class=\"ps_box-label ps_right\" id=\"win0divPTS_SELECTlbl$14\"><label class=\"ps-label\" for=\"PTS_SELECT$14\" id=\"PTS_SELECT_LBL$14\">Iowa (215)</label></div>\n",
      "</div></div></li><li class=\"ps_grid-row\" id=\"PTS_FACETVALUES$0_row_15\">\n",
      "<div class=\"ps_box-group psc_layout\" id=\"win0divPTS_GROUP_BOX$15\">\n",
      "<div class=\"ps_box-checkbox psc_standard psc_margin-top0_2em pts_fontweight-normal\" id=\"win0divPTS_SELECT$15\"><input class=\"psc_off\" id=\"PTS_SELECT$chk$15\" type=\"hidden\" value=\"N\"/>\n",
      "<div class=\"ps_box-control\" id=\"win0divPTS_SELECTctrl$15\" onclick=\"doRadioOuterClick(this);cancelBubble(event);\"><input class=\"ps-checkbox\" id=\"PTS_SELECT$15\" onblur=\"clearOutline(this.nextElementSibling);\" onclick=\"doRadioClick(this, 'PTS_SELECT$chk$15');addchg_win0(this);submitAction_win0(this.form,this.id);\" onfocus=\"setOutlineTimer(this.id);doFocus_win0(this,false,true);\" psnchg=\"0\" ptchecked_val=\"Y\" ptunchecked_val=\"N\" title=\"Kansas (3)\" type=\"checkbox\" value=\"Y\"/><label class=\"ps_indicator\" for=\"PTS_SELECT$15\" ptchecked_text=\"Yes\" ptunchecked_text=\"No\"><span class=\"psc_on_container\">Yes</span><span class=\"psc_off_container\">No</span></label></div><div class=\"ps_box-label ps_right\" id=\"win0divPTS_SELECTlbl$15\"><label class=\"ps-label\" for=\"PTS_SELECT$15\" id=\"PTS_SELECT_LBL$15\">Kansas (3)</label></div>\n",
      "</div></div></li><li class=\"ps_grid-row\" id=\"PTS_FACETVALUES$0_row_16\">\n",
      "<div class=\"ps_box-group psc_layout\" id=\"win0divPTS_GROUP_BOX$16\">\n",
      "<div class=\"ps_box-checkbox psc_standard psc_margin-top0_2em pts_fontweight-normal\" id=\"win0divPTS_SELECT$16\"><input class=\"psc_off\" id=\"PTS_SELECT$chk$16\" type=\"hidden\" value=\"N\"/>\n",
      "<div class=\"ps_box-control\" id=\"win0divPTS_SELECTctrl$16\" onclick=\"doRadioOuterClick(this);cancelBubble(event);\"><input class=\"ps-checkbox\" id=\"PTS_SELECT$16\" onblur=\"clearOutline(this.nextElementSibling);\" onclick=\"doRadioClick(this, 'PTS_SELECT$chk$16');addchg_win0(this);submitAction_win0(this.form,this.id);\" onfocus=\"setOutlineTimer(this.id);doFocus_win0(this,false,true);\" psnchg=\"0\" ptchecked_val=\"Y\" ptunchecked_val=\"N\" title=\"Kentucky (1)\" type=\"checkbox\" value=\"Y\"/><label class=\"ps_indicator\" for=\"PTS_SELECT$16\" ptchecked_text=\"Yes\" ptunchecked_text=\"No\"><span class=\"psc_on_container\">Yes</span><span class=\"psc_off_container\">No</span></label></div><div class=\"ps_box-label ps_right\" id=\"win0divPTS_SELECTlbl$16\"><label class=\"ps-label\" for=\"PTS_SELECT$16\" id=\"PTS_SELECT_LBL$16\">Kentucky (1)</label></div>\n",
      "</div></div></li><li class=\"ps_grid-row\" id=\"PTS_FACETVALUES$0_row_17\">\n",
      "<div class=\"ps_box-group psc_layout\" id=\"win0divPTS_GROUP_BOX$17\">\n",
      "<div class=\"ps_box-checkbox psc_standard psc_margin-top0_2em pts_fontweight-normal\" id=\"win0divPTS_SELECT$17\"><input class=\"psc_off\" id=\"PTS_SELECT$chk$17\" type=\"hidden\" value=\"N\"/>\n",
      "<div class=\"ps_box-control\" id=\"win0divPTS_SELECTctrl$17\" onclick=\"doRadioOuterClick(this);cancelBubble(event);\"><input class=\"ps-checkbox\" id=\"PTS_SELECT$17\" onblur=\"clearOutline(this.nextElementSibling);\" onclick=\"doRadioClick(this, 'PTS_SELECT$chk$17');addchg_win0(this);submitAction_win0(this.form,this.id);\" onfocus=\"setOutlineTimer(this.id);doFocus_win0(this,false,true);\" psnchg=\"0\" ptchecked_val=\"Y\" ptunchecked_val=\"N\" title=\"Maryland (26)\" type=\"checkbox\" value=\"Y\"/><label class=\"ps_indicator\" for=\"PTS_SELECT$17\" ptchecked_text=\"Yes\" ptunchecked_text=\"No\"><span class=\"psc_on_container\">Yes</span><span class=\"psc_off_container\">No</span></label></div><div class=\"ps_box-label ps_right\" id=\"win0divPTS_SELECTlbl$17\"><label class=\"ps-label\" for=\"PTS_SELECT$17\" id=\"PTS_SELECT_LBL$17\">Maryland (26)</label></div>\n",
      "</div></div></li><li class=\"ps_grid-row\" id=\"PTS_FACETVALUES$0_row_18\">\n",
      "<div class=\"ps_box-group psc_layout\" id=\"win0divPTS_GROUP_BOX$18\">\n",
      "<div class=\"ps_box-checkbox psc_standard psc_margin-top0_2em pts_fontweight-normal\" id=\"win0divPTS_SELECT$18\"><input class=\"psc_off\" id=\"PTS_SELECT$chk$18\" type=\"hidden\" value=\"N\"/>\n",
      "<div class=\"ps_box-control\" id=\"win0divPTS_SELECTctrl$18\" onclick=\"doRadioOuterClick(this);cancelBubble(event);\"><input class=\"ps-checkbox\" id=\"PTS_SELECT$18\" onblur=\"clearOutline(this.nextElementSibling);\" onclick=\"doRadioClick(this, 'PTS_SELECT$chk$18');addchg_win0(this);submitAction_win0(this.form,this.id);\" onfocus=\"setOutlineTimer(this.id);doFocus_win0(this,false,true);\" psnchg=\"0\" ptchecked_val=\"Y\" ptunchecked_val=\"N\" title=\"Massachusetts (26)\" type=\"checkbox\" value=\"Y\"/><label class=\"ps_indicator\" for=\"PTS_SELECT$18\" ptchecked_text=\"Yes\" ptunchecked_text=\"No\"><span class=\"psc_on_container\">Yes</span><span class=\"psc_off_container\">No</span></label></div><div class=\"ps_box-label ps_right\" id=\"win0divPTS_SELECTlbl$18\"><label class=\"ps-label\" for=\"PTS_SELECT$18\" id=\"PTS_SELECT_LBL$18\">Massachusetts (26)</label></div>\n",
      "</div></div></li><li class=\"ps_grid-row\" id=\"PTS_FACETVALUES$0_row_19\">\n",
      "<div class=\"ps_box-group psc_layout\" id=\"win0divPTS_GROUP_BOX$19\">\n",
      "<div class=\"ps_box-checkbox psc_standard psc_margin-top0_2em pts_fontweight-normal\" id=\"win0divPTS_SELECT$19\"><input class=\"psc_off\" id=\"PTS_SELECT$chk$19\" type=\"hidden\" value=\"N\"/>\n",
      "<div class=\"ps_box-control\" id=\"win0divPTS_SELECTctrl$19\" onclick=\"doRadioOuterClick(this);cancelBubble(event);\"><input class=\"ps-checkbox\" id=\"PTS_SELECT$19\" onblur=\"clearOutline(this.nextElementSibling);\" onclick=\"doRadioClick(this, 'PTS_SELECT$chk$19');addchg_win0(this);submitAction_win0(this.form,this.id);\" onfocus=\"setOutlineTimer(this.id);doFocus_win0(this,false,true);\" psnchg=\"0\" ptchecked_val=\"Y\" ptunchecked_val=\"N\" title=\"Michigan (4)\" type=\"checkbox\" value=\"Y\"/><label class=\"ps_indicator\" for=\"PTS_SELECT$19\" ptchecked_text=\"Yes\" ptunchecked_text=\"No\"><span class=\"psc_on_container\">Yes</span><span class=\"psc_off_container\">No</span></label></div><div class=\"ps_box-label ps_right\" id=\"win0divPTS_SELECTlbl$19\"><label class=\"ps-label\" for=\"PTS_SELECT$19\" id=\"PTS_SELECT_LBL$19\">Michigan (4)</label></div>\n",
      "</div></div></li><li class=\"ps_grid-row\" id=\"PTS_FACETVALUES$0_row_20\">\n",
      "<div class=\"ps_box-group psc_layout\" id=\"win0divPTS_GROUP_BOX$20\">\n",
      "<div class=\"ps_box-checkbox psc_standard psc_margin-top0_2em pts_fontweight-normal\" id=\"win0divPTS_SELECT$20\"><input class=\"psc_off\" id=\"PTS_SELECT$chk$20\" type=\"hidden\" value=\"N\"/>\n",
      "<div class=\"ps_box-control\" id=\"win0divPTS_SELECTctrl$20\" onclick=\"doRadioOuterClick(this);cancelBubble(event);\"><input class=\"ps-checkbox\" id=\"PTS_SELECT$20\" onblur=\"clearOutline(this.nextElementSibling);\" onclick=\"doRadioClick(this, 'PTS_SELECT$chk$20');addchg_win0(this);submitAction_win0(this.form,this.id);\" onfocus=\"setOutlineTimer(this.id);doFocus_win0(this,false,true);\" psnchg=\"0\" ptchecked_val=\"Y\" ptunchecked_val=\"N\" title=\"Minnesota (379)\" type=\"checkbox\" value=\"Y\"/><label class=\"ps_indicator\" for=\"PTS_SELECT$20\" ptchecked_text=\"Yes\" ptunchecked_text=\"No\"><span class=\"psc_on_container\">Yes</span><span class=\"psc_off_container\">No</span></label></div><div class=\"ps_box-label ps_right\" id=\"win0divPTS_SELECTlbl$20\"><label class=\"ps-label\" for=\"PTS_SELECT$20\" id=\"PTS_SELECT_LBL$20\">Minnesota (379)</label></div>\n",
      "</div></div></li><li class=\"ps_grid-row\" id=\"PTS_FACETVALUES$0_row_21\">\n",
      "<div class=\"ps_box-group psc_layout\" id=\"win0divPTS_GROUP_BOX$21\">\n",
      "<div class=\"ps_box-checkbox psc_standard psc_margin-top0_2em pts_fontweight-normal\" id=\"win0divPTS_SELECT$21\"><input class=\"psc_off\" id=\"PTS_SELECT$chk$21\" type=\"hidden\" value=\"N\"/>\n",
      "<div class=\"ps_box-control\" id=\"win0divPTS_SELECTctrl$21\" onclick=\"doRadioOuterClick(this);cancelBubble(event);\"><input class=\"ps-checkbox\" id=\"PTS_SELECT$21\" onblur=\"clearOutline(this.nextElementSibling);\" onclick=\"doRadioClick(this, 'PTS_SELECT$chk$21');addchg_win0(this);submitAction_win0(this.form,this.id);\" onfocus=\"setOutlineTimer(this.id);doFocus_win0(this,false,true);\" psnchg=\"0\" ptchecked_val=\"Y\" ptunchecked_val=\"N\" title=\"Mississippi (3)\" type=\"checkbox\" value=\"Y\"/><label class=\"ps_indicator\" for=\"PTS_SELECT$21\" ptchecked_text=\"Yes\" ptunchecked_text=\"No\"><span class=\"psc_on_container\">Yes</span><span class=\"psc_off_container\">No</span></label></div><div class=\"ps_box-label ps_right\" id=\"win0divPTS_SELECTlbl$21\"><label class=\"ps-label\" for=\"PTS_SELECT$21\" id=\"PTS_SELECT_LBL$21\">Mississippi (3)</label></div>\n",
      "</div></div></li><li class=\"ps_grid-row\" id=\"PTS_FACETVALUES$0_row_22\">\n",
      "<div class=\"ps_box-group psc_layout\" id=\"win0divPTS_GROUP_BOX$22\">\n",
      "<div class=\"ps_box-checkbox psc_standard psc_margin-top0_2em pts_fontweight-normal\" id=\"win0divPTS_SELECT$22\"><input class=\"psc_off\" id=\"PTS_SELECT$chk$22\" type=\"hidden\" value=\"N\"/>\n",
      "<div class=\"ps_box-control\" id=\"win0divPTS_SELECTctrl$22\" onclick=\"doRadioOuterClick(this);cancelBubble(event);\"><input class=\"ps-checkbox\" id=\"PTS_SELECT$22\" onblur=\"clearOutline(this.nextElementSibling);\" onclick=\"doRadioClick(this, 'PTS_SELECT$chk$22');addchg_win0(this);submitAction_win0(this.form,this.id);\" onfocus=\"setOutlineTimer(this.id);doFocus_win0(this,false,true);\" psnchg=\"0\" ptchecked_val=\"Y\" ptunchecked_val=\"N\" title=\"Missouri (118)\" type=\"checkbox\" value=\"Y\"/><label class=\"ps_indicator\" for=\"PTS_SELECT$22\" ptchecked_text=\"Yes\" ptunchecked_text=\"No\"><span class=\"psc_on_container\">Yes</span><span class=\"psc_off_container\">No</span></label></div><div class=\"ps_box-label ps_right\" id=\"win0divPTS_SELECTlbl$22\"><label class=\"ps-label\" for=\"PTS_SELECT$22\" id=\"PTS_SELECT_LBL$22\">Missouri (118)</label></div>\n",
      "</div></div></li><li class=\"ps_grid-row\" id=\"PTS_FACETVALUES$0_row_23\">\n",
      "<div class=\"ps_box-group psc_layout\" id=\"win0divPTS_GROUP_BOX$23\">\n",
      "<div class=\"ps_box-checkbox psc_standard psc_margin-top0_2em pts_fontweight-normal\" id=\"win0divPTS_SELECT$23\"><input class=\"psc_off\" id=\"PTS_SELECT$chk$23\" type=\"hidden\" value=\"N\"/>\n",
      "<div class=\"ps_box-control\" id=\"win0divPTS_SELECTctrl$23\" onclick=\"doRadioOuterClick(this);cancelBubble(event);\"><input class=\"ps-checkbox\" id=\"PTS_SELECT$23\" onblur=\"clearOutline(this.nextElementSibling);\" onclick=\"doRadioClick(this, 'PTS_SELECT$chk$23');addchg_win0(this);submitAction_win0(this.form,this.id);\" onfocus=\"setOutlineTimer(this.id);doFocus_win0(this,false,true);\" psnchg=\"0\" ptchecked_val=\"Y\" ptunchecked_val=\"N\" title=\"Montana (5)\" type=\"checkbox\" value=\"Y\"/><label class=\"ps_indicator\" for=\"PTS_SELECT$23\" ptchecked_text=\"Yes\" ptunchecked_text=\"No\"><span class=\"psc_on_container\">Yes</span><span class=\"psc_off_container\">No</span></label></div><div class=\"ps_box-label ps_right\" id=\"win0divPTS_SELECTlbl$23\"><label class=\"ps-label\" for=\"PTS_SELECT$23\" id=\"PTS_SELECT_LBL$23\">Montana (5)</label></div>\n",
      "</div></div></li><li class=\"ps_grid-row\" id=\"PTS_FACETVALUES$0_row_24\">\n",
      "<div class=\"ps_box-group psc_layout\" id=\"win0divPTS_GROUP_BOX$24\">\n",
      "<div class=\"ps_box-checkbox psc_standard psc_margin-top0_2em pts_fontweight-normal\" id=\"win0divPTS_SELECT$24\"><input class=\"psc_off\" id=\"PTS_SELECT$chk$24\" type=\"hidden\" value=\"N\"/>\n",
      "<div class=\"ps_box-control\" id=\"win0divPTS_SELECTctrl$24\" onclick=\"doRadioOuterClick(this);cancelBubble(event);\"><input class=\"ps-checkbox\" id=\"PTS_SELECT$24\" onblur=\"clearOutline(this.nextElementSibling);\" onclick=\"doRadioClick(this, 'PTS_SELECT$chk$24');addchg_win0(this);submitAction_win0(this.form,this.id);\" onfocus=\"setOutlineTimer(this.id);doFocus_win0(this,false,true);\" psnchg=\"0\" ptchecked_val=\"Y\" ptunchecked_val=\"N\" title=\"Nebraska (2)\" type=\"checkbox\" value=\"Y\"/><label class=\"ps_indicator\" for=\"PTS_SELECT$24\" ptchecked_text=\"Yes\" ptunchecked_text=\"No\"><span class=\"psc_on_container\">Yes</span><span class=\"psc_off_container\">No</span></label></div><div class=\"ps_box-label ps_right\" id=\"win0divPTS_SELECTlbl$24\"><label class=\"ps-label\" for=\"PTS_SELECT$24\" id=\"PTS_SELECT_LBL$24\">Nebraska (2)</label></div>\n",
      "</div></div></li><li class=\"ps_grid-row\" id=\"PTS_FACETVALUES$0_row_25\">\n",
      "<div class=\"ps_box-group psc_layout\" id=\"win0divPTS_GROUP_BOX$25\">\n",
      "<div class=\"ps_box-checkbox psc_standard psc_margin-top0_2em pts_fontweight-normal\" id=\"win0divPTS_SELECT$25\"><input class=\"psc_off\" id=\"PTS_SELECT$chk$25\" type=\"hidden\" value=\"N\"/>\n",
      "<div class=\"ps_box-control\" id=\"win0divPTS_SELECTctrl$25\" onclick=\"doRadioOuterClick(this);cancelBubble(event);\"><input class=\"ps-checkbox\" id=\"PTS_SELECT$25\" onblur=\"clearOutline(this.nextElementSibling);\" onclick=\"doRadioClick(this, 'PTS_SELECT$chk$25');addchg_win0(this);submitAction_win0(this.form,this.id);\" onfocus=\"setOutlineTimer(this.id);doFocus_win0(this,false,true);\" psnchg=\"0\" ptchecked_val=\"Y\" ptunchecked_val=\"N\" title=\"Nevada (5)\" type=\"checkbox\" value=\"Y\"/><label class=\"ps_indicator\" for=\"PTS_SELECT$25\" ptchecked_text=\"Yes\" ptunchecked_text=\"No\"><span class=\"psc_on_container\">Yes</span><span class=\"psc_off_container\">No</span></label></div><div class=\"ps_box-label ps_right\" id=\"win0divPTS_SELECTlbl$25\"><label class=\"ps-label\" for=\"PTS_SELECT$25\" id=\"PTS_SELECT_LBL$25\">Nevada (5)</label></div>\n",
      "</div></div></li><li class=\"ps_grid-row\" id=\"PTS_FACETVALUES$0_row_26\">\n",
      "<div class=\"ps_box-group psc_layout\" id=\"win0divPTS_GROUP_BOX$26\">\n",
      "<div class=\"ps_box-checkbox psc_standard psc_margin-top0_2em pts_fontweight-normal\" id=\"win0divPTS_SELECT$26\"><input class=\"psc_off\" id=\"PTS_SELECT$chk$26\" type=\"hidden\" value=\"N\"/>\n",
      "<div class=\"ps_box-control\" id=\"win0divPTS_SELECTctrl$26\" onclick=\"doRadioOuterClick(this);cancelBubble(event);\"><input class=\"ps-checkbox\" id=\"PTS_SELECT$26\" onblur=\"clearOutline(this.nextElementSibling);\" onclick=\"doRadioClick(this, 'PTS_SELECT$chk$26');addchg_win0(this);submitAction_win0(this.form,this.id);\" onfocus=\"setOutlineTimer(this.id);doFocus_win0(this,false,true);\" psnchg=\"0\" ptchecked_val=\"Y\" ptunchecked_val=\"N\" title=\"New Hampshire (4)\" type=\"checkbox\" value=\"Y\"/><label class=\"ps_indicator\" for=\"PTS_SELECT$26\" ptchecked_text=\"Yes\" ptunchecked_text=\"No\"><span class=\"psc_on_container\">Yes</span><span class=\"psc_off_container\">No</span></label></div><div class=\"ps_box-label ps_right\" id=\"win0divPTS_SELECTlbl$26\"><label class=\"ps-label\" for=\"PTS_SELECT$26\" id=\"PTS_SELECT_LBL$26\">New Hampshire (4)</label></div>\n",
      "</div></div></li><li class=\"ps_grid-row\" id=\"PTS_FACETVALUES$0_row_27\">\n",
      "<div class=\"ps_box-group psc_layout\" id=\"win0divPTS_GROUP_BOX$27\">\n",
      "<div class=\"ps_box-checkbox psc_standard psc_margin-top0_2em pts_fontweight-normal\" id=\"win0divPTS_SELECT$27\"><input class=\"psc_off\" id=\"PTS_SELECT$chk$27\" type=\"hidden\" value=\"N\"/>\n",
      "<div class=\"ps_box-control\" id=\"win0divPTS_SELECTctrl$27\" onclick=\"doRadioOuterClick(this);cancelBubble(event);\"><input class=\"ps-checkbox\" id=\"PTS_SELECT$27\" onblur=\"clearOutline(this.nextElementSibling);\" onclick=\"doRadioClick(this, 'PTS_SELECT$chk$27');addchg_win0(this);submitAction_win0(this.form,this.id);\" onfocus=\"setOutlineTimer(this.id);doFocus_win0(this,false,true);\" psnchg=\"0\" ptchecked_val=\"Y\" ptunchecked_val=\"N\" title=\"New Jersey (149)\" type=\"checkbox\" value=\"Y\"/><label class=\"ps_indicator\" for=\"PTS_SELECT$27\" ptchecked_text=\"Yes\" ptunchecked_text=\"No\"><span class=\"psc_on_container\">Yes</span><span class=\"psc_off_container\">No</span></label></div><div class=\"ps_box-label ps_right\" id=\"win0divPTS_SELECTlbl$27\"><label class=\"ps-label\" for=\"PTS_SELECT$27\" id=\"PTS_SELECT_LBL$27\">New Jersey (149)</label></div>\n",
      "</div></div></li><li class=\"ps_grid-row\" id=\"PTS_FACETVALUES$0_row_28\">\n",
      "<div class=\"ps_box-group psc_layout\" id=\"win0divPTS_GROUP_BOX$28\">\n",
      "<div class=\"ps_box-checkbox psc_standard psc_margin-top0_2em pts_fontweight-normal\" id=\"win0divPTS_SELECT$28\"><input class=\"psc_off\" id=\"PTS_SELECT$chk$28\" type=\"hidden\" value=\"N\"/>\n",
      "<div class=\"ps_box-control\" id=\"win0divPTS_SELECTctrl$28\" onclick=\"doRadioOuterClick(this);cancelBubble(event);\"><input class=\"ps-checkbox\" id=\"PTS_SELECT$28\" onblur=\"clearOutline(this.nextElementSibling);\" onclick=\"doRadioClick(this, 'PTS_SELECT$chk$28');addchg_win0(this);submitAction_win0(this.form,this.id);\" onfocus=\"setOutlineTimer(this.id);doFocus_win0(this,false,true);\" psnchg=\"0\" ptchecked_val=\"Y\" ptunchecked_val=\"N\" title=\"New Mexico (1)\" type=\"checkbox\" value=\"Y\"/><label class=\"ps_indicator\" for=\"PTS_SELECT$28\" ptchecked_text=\"Yes\" ptunchecked_text=\"No\"><span class=\"psc_on_container\">Yes</span><span class=\"psc_off_container\">No</span></label></div><div class=\"ps_box-label ps_right\" id=\"win0divPTS_SELECTlbl$28\"><label class=\"ps-label\" for=\"PTS_SELECT$28\" id=\"PTS_SELECT_LBL$28\">New Mexico (1)</label></div>\n",
      "</div></div></li><li class=\"ps_grid-row\" id=\"PTS_FACETVALUES$0_row_29\">\n",
      "<div class=\"ps_box-group psc_layout\" id=\"win0divPTS_GROUP_BOX$29\">\n",
      "<div class=\"ps_box-checkbox psc_standard psc_margin-top0_2em pts_fontweight-normal\" id=\"win0divPTS_SELECT$29\"><input class=\"psc_off\" id=\"PTS_SELECT$chk$29\" type=\"hidden\" value=\"N\"/>\n",
      "<div class=\"ps_box-control\" id=\"win0divPTS_SELECTctrl$29\" onclick=\"doRadioOuterClick(this);cancelBubble(event);\"><input class=\"ps-checkbox\" id=\"PTS_SELECT$29\" onblur=\"clearOutline(this.nextElementSibling);\" onclick=\"doRadioClick(this, 'PTS_SELECT$chk$29');addchg_win0(this);submitAction_win0(this.form,this.id);\" onfocus=\"setOutlineTimer(this.id);doFocus_win0(this,false,true);\" psnchg=\"0\" ptchecked_val=\"Y\" ptunchecked_val=\"N\" title=\"New York (102)\" type=\"checkbox\" value=\"Y\"/><label class=\"ps_indicator\" for=\"PTS_SELECT$29\" ptchecked_text=\"Yes\" ptunchecked_text=\"No\"><span class=\"psc_on_container\">Yes</span><span class=\"psc_off_container\">No</span></label></div><div class=\"ps_box-label ps_right\" id=\"win0divPTS_SELECTlbl$29\"><label class=\"ps-label\" for=\"PTS_SELECT$29\" id=\"PTS_SELECT_LBL$29\">New York (102)</label></div>\n",
      "</div></div></li><li class=\"ps_grid-row\" id=\"PTS_FACETVALUES$0_row_30\">\n",
      "<div class=\"ps_box-group psc_layout\" id=\"win0divPTS_GROUP_BOX$30\">\n",
      "<div class=\"ps_box-checkbox psc_standard psc_margin-top0_2em pts_fontweight-normal\" id=\"win0divPTS_SELECT$30\"><input class=\"psc_off\" id=\"PTS_SELECT$chk$30\" type=\"hidden\" value=\"N\"/>\n",
      "<div class=\"ps_box-control\" id=\"win0divPTS_SELECTctrl$30\" onclick=\"doRadioOuterClick(this);cancelBubble(event);\"><input class=\"ps-checkbox\" id=\"PTS_SELECT$30\" onblur=\"clearOutline(this.nextElementSibling);\" onclick=\"doRadioClick(this, 'PTS_SELECT$chk$30');addchg_win0(this);submitAction_win0(this.form,this.id);\" onfocus=\"setOutlineTimer(this.id);doFocus_win0(this,false,true);\" psnchg=\"0\" ptchecked_val=\"Y\" ptunchecked_val=\"N\" title=\"North Carolina (493)\" type=\"checkbox\" value=\"Y\"/><label class=\"ps_indicator\" for=\"PTS_SELECT$30\" ptchecked_text=\"Yes\" ptunchecked_text=\"No\"><span class=\"psc_on_container\">Yes</span><span class=\"psc_off_container\">No</span></label></div><div class=\"ps_box-label ps_right\" id=\"win0divPTS_SELECTlbl$30\"><label class=\"ps-label\" for=\"PTS_SELECT$30\" id=\"PTS_SELECT_LBL$30\">North Carolina (493)</label></div>\n",
      "</div></div></li><li class=\"ps_grid-row\" id=\"PTS_FACETVALUES$0_row_31\">\n",
      "<div class=\"ps_box-group psc_layout\" id=\"win0divPTS_GROUP_BOX$31\">\n",
      "<div class=\"ps_box-checkbox psc_standard psc_margin-top0_2em pts_fontweight-normal\" id=\"win0divPTS_SELECT$31\"><input class=\"psc_off\" id=\"PTS_SELECT$chk$31\" type=\"hidden\" value=\"N\"/>\n",
      "<div class=\"ps_box-control\" id=\"win0divPTS_SELECTctrl$31\" onclick=\"doRadioOuterClick(this);cancelBubble(event);\"><input class=\"ps-checkbox\" id=\"PTS_SELECT$31\" onblur=\"clearOutline(this.nextElementSibling);\" onclick=\"doRadioClick(this, 'PTS_SELECT$chk$31');addchg_win0(this);submitAction_win0(this.form,this.id);\" onfocus=\"setOutlineTimer(this.id);doFocus_win0(this,false,true);\" psnchg=\"0\" ptchecked_val=\"Y\" ptunchecked_val=\"N\" title=\"North Dakota (9)\" type=\"checkbox\" value=\"Y\"/><label class=\"ps_indicator\" for=\"PTS_SELECT$31\" ptchecked_text=\"Yes\" ptunchecked_text=\"No\"><span class=\"psc_on_container\">Yes</span><span class=\"psc_off_container\">No</span></label></div><div class=\"ps_box-label ps_right\" id=\"win0divPTS_SELECTlbl$31\"><label class=\"ps-label\" for=\"PTS_SELECT$31\" id=\"PTS_SELECT_LBL$31\">North Dakota (9)</label></div>\n",
      "</div></div></li><li class=\"ps_grid-row\" id=\"PTS_FACETVALUES$0_row_32\">\n",
      "<div class=\"ps_box-group psc_layout\" id=\"win0divPTS_GROUP_BOX$32\">\n",
      "<div class=\"ps_box-checkbox psc_standard psc_margin-top0_2em pts_fontweight-normal\" id=\"win0divPTS_SELECT$32\"><input class=\"psc_off\" id=\"PTS_SELECT$chk$32\" type=\"hidden\" value=\"N\"/>\n",
      "<div class=\"ps_box-control\" id=\"win0divPTS_SELECTctrl$32\" onclick=\"doRadioOuterClick(this);cancelBubble(event);\"><input class=\"ps-checkbox\" id=\"PTS_SELECT$32\" onblur=\"clearOutline(this.nextElementSibling);\" onclick=\"doRadioClick(this, 'PTS_SELECT$chk$32');addchg_win0(this);submitAction_win0(this.form,this.id);\" onfocus=\"setOutlineTimer(this.id);doFocus_win0(this,false,true);\" psnchg=\"0\" ptchecked_val=\"Y\" ptunchecked_val=\"N\" title=\"Ohio (1)\" type=\"checkbox\" value=\"Y\"/><label class=\"ps_indicator\" for=\"PTS_SELECT$32\" ptchecked_text=\"Yes\" ptunchecked_text=\"No\"><span class=\"psc_on_container\">Yes</span><span class=\"psc_off_container\">No</span></label></div><div class=\"ps_box-label ps_right\" id=\"win0divPTS_SELECTlbl$32\"><label class=\"ps-label\" for=\"PTS_SELECT$32\" id=\"PTS_SELECT_LBL$32\">Ohio (1)</label></div>\n",
      "</div></div></li><li class=\"ps_grid-row\" id=\"PTS_FACETVALUES$0_row_33\">\n",
      "<div class=\"ps_box-group psc_layout\" id=\"win0divPTS_GROUP_BOX$33\">\n",
      "<div class=\"ps_box-checkbox psc_standard psc_margin-top0_2em pts_fontweight-normal\" id=\"win0divPTS_SELECT$33\"><input class=\"psc_off\" id=\"PTS_SELECT$chk$33\" type=\"hidden\" value=\"N\"/>\n",
      "<div class=\"ps_box-control\" id=\"win0divPTS_SELECTctrl$33\" onclick=\"doRadioOuterClick(this);cancelBubble(event);\"><input class=\"ps-checkbox\" id=\"PTS_SELECT$33\" onblur=\"clearOutline(this.nextElementSibling);\" onclick=\"doRadioClick(this, 'PTS_SELECT$chk$33');addchg_win0(this);submitAction_win0(this.form,this.id);\" onfocus=\"setOutlineTimer(this.id);doFocus_win0(this,false,true);\" psnchg=\"0\" ptchecked_val=\"Y\" ptunchecked_val=\"N\" title=\"Oregon (31)\" type=\"checkbox\" value=\"Y\"/><label class=\"ps_indicator\" for=\"PTS_SELECT$33\" ptchecked_text=\"Yes\" ptunchecked_text=\"No\"><span class=\"psc_on_container\">Yes</span><span class=\"psc_off_container\">No</span></label></div><div class=\"ps_box-label ps_right\" id=\"win0divPTS_SELECTlbl$33\"><label class=\"ps-label\" for=\"PTS_SELECT$33\" id=\"PTS_SELECT_LBL$33\">Oregon (31)</label></div>\n",
      "</div></div></li><li class=\"ps_grid-row\" id=\"PTS_FACETVALUES$0_row_34\">\n",
      "<div class=\"ps_box-group psc_layout\" id=\"win0divPTS_GROUP_BOX$34\">\n",
      "<div class=\"ps_box-checkbox psc_standard psc_margin-top0_2em pts_fontweight-normal\" id=\"win0divPTS_SELECT$34\"><input class=\"psc_off\" id=\"PTS_SELECT$chk$34\" type=\"hidden\" value=\"N\"/>\n",
      "<div class=\"ps_box-control\" id=\"win0divPTS_SELECTctrl$34\" onclick=\"doRadioOuterClick(this);cancelBubble(event);\"><input class=\"ps-checkbox\" id=\"PTS_SELECT$34\" onblur=\"clearOutline(this.nextElementSibling);\" onclick=\"doRadioClick(this, 'PTS_SELECT$chk$34');addchg_win0(this);submitAction_win0(this.form,this.id);\" onfocus=\"setOutlineTimer(this.id);doFocus_win0(this,false,true);\" psnchg=\"0\" ptchecked_val=\"Y\" ptunchecked_val=\"N\" title=\"Pennsylvania (95)\" type=\"checkbox\" value=\"Y\"/><label class=\"ps_indicator\" for=\"PTS_SELECT$34\" ptchecked_text=\"Yes\" ptunchecked_text=\"No\"><span class=\"psc_on_container\">Yes</span><span class=\"psc_off_container\">No</span></label></div><div class=\"ps_box-label ps_right\" id=\"win0divPTS_SELECTlbl$34\"><label class=\"ps-label\" for=\"PTS_SELECT$34\" id=\"PTS_SELECT_LBL$34\">Pennsylvania (95)</label></div>\n",
      "</div></div></li><li class=\"ps_grid-row\" id=\"PTS_FACETVALUES$0_row_35\">\n",
      "<div class=\"ps_box-group psc_layout\" id=\"win0divPTS_GROUP_BOX$35\">\n",
      "<div class=\"ps_box-checkbox psc_standard psc_margin-top0_2em pts_fontweight-normal\" id=\"win0divPTS_SELECT$35\"><input class=\"psc_off\" id=\"PTS_SELECT$chk$35\" type=\"hidden\" value=\"N\"/>\n",
      "<div class=\"ps_box-control\" id=\"win0divPTS_SELECTctrl$35\" onclick=\"doRadioOuterClick(this);cancelBubble(event);\"><input class=\"ps-checkbox\" id=\"PTS_SELECT$35\" onblur=\"clearOutline(this.nextElementSibling);\" onclick=\"doRadioClick(this, 'PTS_SELECT$chk$35');addchg_win0(this);submitAction_win0(this.form,this.id);\" onfocus=\"setOutlineTimer(this.id);doFocus_win0(this,false,true);\" psnchg=\"0\" ptchecked_val=\"Y\" ptunchecked_val=\"N\" title=\"South Carolina (430)\" type=\"checkbox\" value=\"Y\"/><label class=\"ps_indicator\" for=\"PTS_SELECT$35\" ptchecked_text=\"Yes\" ptunchecked_text=\"No\"><span class=\"psc_on_container\">Yes</span><span class=\"psc_off_container\">No</span></label></div><div class=\"ps_box-label ps_right\" id=\"win0divPTS_SELECTlbl$35\"><label class=\"ps-label\" for=\"PTS_SELECT$35\" id=\"PTS_SELECT_LBL$35\">South Carolina (430)</label></div>\n",
      "</div></div></li><li class=\"ps_grid-row\" id=\"PTS_FACETVALUES$0_row_36\">\n",
      "<div class=\"ps_box-group psc_layout\" id=\"win0divPTS_GROUP_BOX$36\">\n",
      "<div class=\"ps_box-checkbox psc_standard psc_margin-top0_2em pts_fontweight-normal\" id=\"win0divPTS_SELECT$36\"><input class=\"psc_off\" id=\"PTS_SELECT$chk$36\" type=\"hidden\" value=\"N\"/>\n",
      "<div class=\"ps_box-control\" id=\"win0divPTS_SELECTctrl$36\" onclick=\"doRadioOuterClick(this);cancelBubble(event);\"><input class=\"ps-checkbox\" id=\"PTS_SELECT$36\" onblur=\"clearOutline(this.nextElementSibling);\" onclick=\"doRadioClick(this, 'PTS_SELECT$chk$36');addchg_win0(this);submitAction_win0(this.form,this.id);\" onfocus=\"setOutlineTimer(this.id);doFocus_win0(this,false,true);\" psnchg=\"0\" ptchecked_val=\"Y\" ptunchecked_val=\"N\" title=\"South Dakota (17)\" type=\"checkbox\" value=\"Y\"/><label class=\"ps_indicator\" for=\"PTS_SELECT$36\" ptchecked_text=\"Yes\" ptunchecked_text=\"No\"><span class=\"psc_on_container\">Yes</span><span class=\"psc_off_container\">No</span></label></div><div class=\"ps_box-label ps_right\" id=\"win0divPTS_SELECTlbl$36\"><label class=\"ps-label\" for=\"PTS_SELECT$36\" id=\"PTS_SELECT_LBL$36\">South Dakota (17)</label></div>\n",
      "</div></div></li><li class=\"ps_grid-row\" id=\"PTS_FACETVALUES$0_row_37\">\n",
      "<div class=\"ps_box-group psc_layout\" id=\"win0divPTS_GROUP_BOX$37\">\n",
      "<div class=\"ps_box-checkbox psc_standard psc_margin-top0_2em pts_fontweight-normal\" id=\"win0divPTS_SELECT$37\"><input class=\"psc_off\" id=\"PTS_SELECT$chk$37\" type=\"hidden\" value=\"N\"/>\n",
      "<div class=\"ps_box-control\" id=\"win0divPTS_SELECTctrl$37\" onclick=\"doRadioOuterClick(this);cancelBubble(event);\"><input class=\"ps-checkbox\" id=\"PTS_SELECT$37\" onblur=\"clearOutline(this.nextElementSibling);\" onclick=\"doRadioClick(this, 'PTS_SELECT$chk$37');addchg_win0(this);submitAction_win0(this.form,this.id);\" onfocus=\"setOutlineTimer(this.id);doFocus_win0(this,false,true);\" psnchg=\"0\" ptchecked_val=\"Y\" ptunchecked_val=\"N\" title=\"Tennessee (3)\" type=\"checkbox\" value=\"Y\"/><label class=\"ps_indicator\" for=\"PTS_SELECT$37\" ptchecked_text=\"Yes\" ptunchecked_text=\"No\"><span class=\"psc_on_container\">Yes</span><span class=\"psc_off_container\">No</span></label></div><div class=\"ps_box-label ps_right\" id=\"win0divPTS_SELECTlbl$37\"><label class=\"ps-label\" for=\"PTS_SELECT$37\" id=\"PTS_SELECT_LBL$37\">Tennessee (3)</label></div>\n",
      "</div></div></li><li class=\"ps_grid-row\" id=\"PTS_FACETVALUES$0_row_38\">\n",
      "<div class=\"ps_box-group psc_layout\" id=\"win0divPTS_GROUP_BOX$38\">\n",
      "<div class=\"ps_box-checkbox psc_standard psc_margin-top0_2em pts_fontweight-normal\" id=\"win0divPTS_SELECT$38\"><input class=\"psc_off\" id=\"PTS_SELECT$chk$38\" type=\"hidden\" value=\"N\"/>\n",
      "<div class=\"ps_box-control\" id=\"win0divPTS_SELECTctrl$38\" onclick=\"doRadioOuterClick(this);cancelBubble(event);\"><input class=\"ps-checkbox\" id=\"PTS_SELECT$38\" onblur=\"clearOutline(this.nextElementSibling);\" onclick=\"doRadioClick(this, 'PTS_SELECT$chk$38');addchg_win0(this);submitAction_win0(this.form,this.id);\" onfocus=\"setOutlineTimer(this.id);doFocus_win0(this,false,true);\" psnchg=\"0\" ptchecked_val=\"Y\" ptunchecked_val=\"N\" title=\"Texas (117)\" type=\"checkbox\" value=\"Y\"/><label class=\"ps_indicator\" for=\"PTS_SELECT$38\" ptchecked_text=\"Yes\" ptunchecked_text=\"No\"><span class=\"psc_on_container\">Yes</span><span class=\"psc_off_container\">No</span></label></div><div class=\"ps_box-label ps_right\" id=\"win0divPTS_SELECTlbl$38\"><label class=\"ps-label\" for=\"PTS_SELECT$38\" id=\"PTS_SELECT_LBL$38\">Texas (117)</label></div>\n",
      "</div></div></li><li class=\"ps_grid-row\" id=\"PTS_FACETVALUES$0_row_39\">\n",
      "<div class=\"ps_box-group psc_layout\" id=\"win0divPTS_GROUP_BOX$39\">\n",
      "<div class=\"ps_box-checkbox psc_standard psc_margin-top0_2em pts_fontweight-normal\" id=\"win0divPTS_SELECT$39\"><input class=\"psc_off\" id=\"PTS_SELECT$chk$39\" type=\"hidden\" value=\"N\"/>\n",
      "<div class=\"ps_box-control\" id=\"win0divPTS_SELECTctrl$39\" onclick=\"doRadioOuterClick(this);cancelBubble(event);\"><input class=\"ps-checkbox\" id=\"PTS_SELECT$39\" onblur=\"clearOutline(this.nextElementSibling);\" onclick=\"doRadioClick(this, 'PTS_SELECT$chk$39');addchg_win0(this);submitAction_win0(this.form,this.id);\" onfocus=\"setOutlineTimer(this.id);doFocus_win0(this,false,true);\" psnchg=\"0\" ptchecked_val=\"Y\" ptunchecked_val=\"N\" title=\"Utah (31)\" type=\"checkbox\" value=\"Y\"/><label class=\"ps_indicator\" for=\"PTS_SELECT$39\" ptchecked_text=\"Yes\" ptunchecked_text=\"No\"><span class=\"psc_on_container\">Yes</span><span class=\"psc_off_container\">No</span></label></div><div class=\"ps_box-label ps_right\" id=\"win0divPTS_SELECTlbl$39\"><label class=\"ps-label\" for=\"PTS_SELECT$39\" id=\"PTS_SELECT_LBL$39\">Utah (31)</label></div>\n",
      "</div></div></li><li class=\"ps_grid-row\" id=\"PTS_FACETVALUES$0_row_40\">\n",
      "<div class=\"ps_box-group psc_layout\" id=\"win0divPTS_GROUP_BOX$40\">\n",
      "<div class=\"ps_box-checkbox psc_standard psc_margin-top0_2em pts_fontweight-normal\" id=\"win0divPTS_SELECT$40\"><input class=\"psc_off\" id=\"PTS_SELECT$chk$40\" type=\"hidden\" value=\"N\"/>\n",
      "<div class=\"ps_box-control\" id=\"win0divPTS_SELECTctrl$40\" onclick=\"doRadioOuterClick(this);cancelBubble(event);\"><input class=\"ps-checkbox\" id=\"PTS_SELECT$40\" onblur=\"clearOutline(this.nextElementSibling);\" onclick=\"doRadioClick(this, 'PTS_SELECT$chk$40');addchg_win0(this);submitAction_win0(this.form,this.id);\" onfocus=\"setOutlineTimer(this.id);doFocus_win0(this,false,true);\" psnchg=\"0\" ptchecked_val=\"Y\" ptunchecked_val=\"N\" title=\"Virginia (38)\" type=\"checkbox\" value=\"Y\"/><label class=\"ps_indicator\" for=\"PTS_SELECT$40\" ptchecked_text=\"Yes\" ptunchecked_text=\"No\"><span class=\"psc_on_container\">Yes</span><span class=\"psc_off_container\">No</span></label></div><div class=\"ps_box-label ps_right\" id=\"win0divPTS_SELECTlbl$40\"><label class=\"ps-label\" for=\"PTS_SELECT$40\" id=\"PTS_SELECT_LBL$40\">Virginia (38)</label></div>\n",
      "</div></div></li><li class=\"ps_grid-row\" id=\"PTS_FACETVALUES$0_row_41\">\n",
      "<div class=\"ps_box-group psc_layout\" id=\"win0divPTS_GROUP_BOX$41\">\n",
      "<div class=\"ps_box-checkbox psc_standard psc_margin-top0_2em pts_fontweight-normal\" id=\"win0divPTS_SELECT$41\"><input class=\"psc_off\" id=\"PTS_SELECT$chk$41\" type=\"hidden\" value=\"N\"/>\n",
      "<div class=\"ps_box-control\" id=\"win0divPTS_SELECTctrl$41\" onclick=\"doRadioOuterClick(this);cancelBubble(event);\"><input class=\"ps-checkbox\" id=\"PTS_SELECT$41\" onblur=\"clearOutline(this.nextElementSibling);\" onclick=\"doRadioClick(this, 'PTS_SELECT$chk$41');addchg_win0(this);submitAction_win0(this.form,this.id);\" onfocus=\"setOutlineTimer(this.id);doFocus_win0(this,false,true);\" psnchg=\"0\" ptchecked_val=\"Y\" ptunchecked_val=\"N\" title=\"Washington (34)\" type=\"checkbox\" value=\"Y\"/><label class=\"ps_indicator\" for=\"PTS_SELECT$41\" ptchecked_text=\"Yes\" ptunchecked_text=\"No\"><span class=\"psc_on_container\">Yes</span><span class=\"psc_off_container\">No</span></label></div><div class=\"ps_box-label ps_right\" id=\"win0divPTS_SELECTlbl$41\"><label class=\"ps-label\" for=\"PTS_SELECT$41\" id=\"PTS_SELECT_LBL$41\">Washington (34)</label></div>\n",
      "</div></div></li><li class=\"ps_grid-row\" id=\"PTS_FACETVALUES$0_row_42\">\n",
      "<div class=\"ps_box-group psc_layout\" id=\"win0divPTS_GROUP_BOX$42\">\n",
      "<div class=\"ps_box-checkbox psc_standard psc_margin-top0_2em pts_fontweight-normal\" id=\"win0divPTS_SELECT$42\"><input class=\"psc_off\" id=\"PTS_SELECT$chk$42\" type=\"hidden\" value=\"N\"/>\n",
      "<div class=\"ps_box-control\" id=\"win0divPTS_SELECTctrl$42\" onclick=\"doRadioOuterClick(this);cancelBubble(event);\"><input class=\"ps-checkbox\" id=\"PTS_SELECT$42\" onblur=\"clearOutline(this.nextElementSibling);\" onclick=\"doRadioClick(this, 'PTS_SELECT$chk$42');addchg_win0(this);submitAction_win0(this.form,this.id);\" onfocus=\"setOutlineTimer(this.id);doFocus_win0(this,false,true);\" psnchg=\"0\" ptchecked_val=\"Y\" ptunchecked_val=\"N\" title=\"West Virginia (6)\" type=\"checkbox\" value=\"Y\"/><label class=\"ps_indicator\" for=\"PTS_SELECT$42\" ptchecked_text=\"Yes\" ptunchecked_text=\"No\"><span class=\"psc_on_container\">Yes</span><span class=\"psc_off_container\">No</span></label></div><div class=\"ps_box-label ps_right\" id=\"win0divPTS_SELECTlbl$42\"><label class=\"ps-label\" for=\"PTS_SELECT$42\" id=\"PTS_SELECT_LBL$42\">West Virginia (6)</label></div>\n",
      "</div></div></li><li class=\"ps_grid-row\" id=\"PTS_FACETVALUES$0_row_43\">\n",
      "<div class=\"ps_box-group psc_layout\" id=\"win0divPTS_GROUP_BOX$43\">\n",
      "<div class=\"ps_box-checkbox psc_standard psc_margin-top0_2em pts_fontweight-normal\" id=\"win0divPTS_SELECT$43\"><input class=\"psc_off\" id=\"PTS_SELECT$chk$43\" type=\"hidden\" value=\"N\"/>\n",
      "<div class=\"ps_box-control\" id=\"win0divPTS_SELECTctrl$43\" onclick=\"doRadioOuterClick(this);cancelBubble(event);\"><input class=\"ps-checkbox\" id=\"PTS_SELECT$43\" onblur=\"clearOutline(this.nextElementSibling);\" onclick=\"doRadioClick(this, 'PTS_SELECT$chk$43');addchg_win0(this);submitAction_win0(this.form,this.id);\" onfocus=\"setOutlineTimer(this.id);doFocus_win0(this,false,true);\" psnchg=\"0\" ptchecked_val=\"Y\" ptunchecked_val=\"N\" title=\"Wisconsin (371)\" type=\"checkbox\" value=\"Y\"/><label class=\"ps_indicator\" for=\"PTS_SELECT$43\" ptchecked_text=\"Yes\" ptunchecked_text=\"No\"><span class=\"psc_on_container\">Yes</span><span class=\"psc_off_container\">No</span></label></div><div class=\"ps_box-label ps_right\" id=\"win0divPTS_SELECTlbl$43\"><label class=\"ps-label\" for=\"PTS_SELECT$43\" id=\"PTS_SELECT_LBL$43\">Wisconsin (371)</label></div>\n",
      "</div></div></li><li class=\"ps_grid-row\" id=\"PTS_FACETVALUES$0_row_44\">\n",
      "<div class=\"ps_box-group psc_layout\" id=\"win0divPTS_GROUP_BOX$44\">\n",
      "<div class=\"ps_box-checkbox psc_standard psc_margin-top0_2em pts_fontweight-normal\" id=\"win0divPTS_SELECT$44\"><input class=\"psc_off\" id=\"PTS_SELECT$chk$44\" type=\"hidden\" value=\"N\"/>\n",
      "<div class=\"ps_box-control\" id=\"win0divPTS_SELECTctrl$44\" onclick=\"doRadioOuterClick(this);cancelBubble(event);\"><input class=\"ps-checkbox\" id=\"PTS_SELECT$44\" onblur=\"clearOutline(this.nextElementSibling);\" onclick=\"doRadioClick(this, 'PTS_SELECT$chk$44');addchg_win0(this);submitAction_win0(this.form,this.id);\" onfocus=\"setOutlineTimer(this.id);doFocus_win0(this,false,true);\" psnchg=\"0\" ptchecked_val=\"Y\" ptunchecked_val=\"N\" title=\"Wyoming (1)\" type=\"checkbox\" value=\"Y\"/><label class=\"ps_indicator\" for=\"PTS_SELECT$44\" ptchecked_text=\"Yes\" ptunchecked_text=\"No\"><span class=\"psc_on_container\">Yes</span><span class=\"psc_off_container\">No</span></label></div><div class=\"ps_box-label ps_right\" id=\"win0divPTS_SELECTlbl$44\"><label class=\"ps-label\" for=\"PTS_SELECT$44\" id=\"PTS_SELECT_LBL$44\">Wyoming (1)</label></div>\n",
      "</div></div></li></ul>\n"
     ]
    }
   ],
   "source": [
    "wells_soup = getSoup(wells_url)\n",
    "\n",
    "#job_search = soup.find('div', {'title':'Search Results List', 'class':'ps_grid-list'})\n",
    "\n",
    "#job_search = soup.find('div', {'id':\"win0divHRS_AGNT_RSLT_I$grid$0\" })\n",
    "job_list = wells_soup.find('ul', {'class':'ps_grid-body'})\n",
    "#\n",
    "print(job_list)\n"
   ]
  },
  {
   "cell_type": "code",
   "execution_count": 0,
   "metadata": {
    "colab": {},
    "colab_type": "code",
    "id": "4W1ph4cjBi-k"
   },
   "outputs": [],
   "source": [
    "import re\n",
    "#in job search find li\n",
    "job_name = []\n",
    "locations = []\n",
    "dates = []\n",
    "for row in wells_soup.findAll('li', {'id': re.compile('^HRS_AGNT')}):\n",
    "\n",
    "  job = row.find('span', {'class':'ps_box-value'})\n",
    "  job_name.append(job.text)\n",
    "  location = row.find('span', {'id': re.compile('^LOCATION')})\n",
    "  locations.append(location.text)\n",
    "  date_post = row.find('span', {'id': re.compile('^SCH_OPENED')})\n",
    "  dates.append(date_post.text)"
   ]
  },
  {
   "cell_type": "code",
   "execution_count": 0,
   "metadata": {
    "colab": {},
    "colab_type": "code",
    "id": "KbmwWO1HBi8K"
   },
   "outputs": [],
   "source": [
    "wells_df = getJobsDf(job_name, locations, dates)"
   ]
  },
  {
   "cell_type": "code",
   "execution_count": 0,
   "metadata": {
    "colab": {
     "base_uri": "https://localhost:8080/",
     "height": 201
    },
    "colab_type": "code",
    "executionInfo": {
     "elapsed": 761,
     "status": "ok",
     "timestamp": 1587748789703,
     "user": {
      "displayName": "Vishwa Pardeshi",
      "photoUrl": "",
      "userId": "12134479053996921070"
     },
     "user_tz": -330
    },
    "id": "ZtASTQgWBi5T",
    "outputId": "f7f3aead-18b8-4b41-fbca-538955ea6434"
   },
   "outputs": [
    {
     "data": {
      "text/html": [
       "<div>\n",
       "<style scoped>\n",
       "    .dataframe tbody tr th:only-of-type {\n",
       "        vertical-align: middle;\n",
       "    }\n",
       "\n",
       "    .dataframe tbody tr th {\n",
       "        vertical-align: top;\n",
       "    }\n",
       "\n",
       "    .dataframe thead th {\n",
       "        text-align: right;\n",
       "    }\n",
       "</style>\n",
       "<table border=\"1\" class=\"dataframe\">\n",
       "  <thead>\n",
       "    <tr style=\"text-align: right;\">\n",
       "      <th></th>\n",
       "      <th>Job Name</th>\n",
       "      <th>Location</th>\n",
       "      <th>Date Posted</th>\n",
       "    </tr>\n",
       "  </thead>\n",
       "  <tbody>\n",
       "    <tr>\n",
       "      <th>0</th>\n",
       "      <td>Account Resolution Specialist 2</td>\n",
       "      <td>UT-Salt Lake City</td>\n",
       "      <td>04/24/2020</td>\n",
       "    </tr>\n",
       "    <tr>\n",
       "      <th>1</th>\n",
       "      <td>Account Resolution Specialist 3</td>\n",
       "      <td>UT-Salt Lake City</td>\n",
       "      <td>04/24/2020</td>\n",
       "    </tr>\n",
       "    <tr>\n",
       "      <th>2</th>\n",
       "      <td>Account Resolutions Specialist 1</td>\n",
       "      <td>UT-Salt Lake City</td>\n",
       "      <td>04/24/2020</td>\n",
       "    </tr>\n",
       "    <tr>\n",
       "      <th>3</th>\n",
       "      <td>Apps Systems Engineer 5</td>\n",
       "      <td>MN-Minneapolis</td>\n",
       "      <td>04/24/2020</td>\n",
       "    </tr>\n",
       "    <tr>\n",
       "      <th>4</th>\n",
       "      <td>Branch Manager 2 - Rainier Avenue - Seattle, WA</td>\n",
       "      <td>WA-Seattle</td>\n",
       "      <td>04/24/2020</td>\n",
       "    </tr>\n",
       "  </tbody>\n",
       "</table>\n",
       "</div>"
      ],
      "text/plain": [
       "                                          Job Name  ... Date Posted\n",
       "0                  Account Resolution Specialist 2  ...  04/24/2020\n",
       "1                  Account Resolution Specialist 3  ...  04/24/2020\n",
       "2                 Account Resolutions Specialist 1  ...  04/24/2020\n",
       "3                          Apps Systems Engineer 5  ...  04/24/2020\n",
       "4  Branch Manager 2 - Rainier Avenue - Seattle, WA  ...  04/24/2020\n",
       "\n",
       "[5 rows x 3 columns]"
      ]
     },
     "execution_count": 57,
     "metadata": {
      "tags": []
     },
     "output_type": "execute_result"
    }
   ],
   "source": [
    "wells_df.head()"
   ]
  },
  {
   "cell_type": "code",
   "execution_count": 0,
   "metadata": {
    "colab": {},
    "colab_type": "code",
    "id": "Ththy6RjBiyD"
   },
   "outputs": [],
   "source": [
    "wells_df.to_csv(r'wellsfargo_job_list.csv',index=False, header=True)"
   ]
  },
  {
   "cell_type": "markdown",
   "metadata": {
    "colab_type": "text",
    "id": "TI6VZbDqBy2d"
   },
   "source": [
    "# Wells Fargo Twitter Data"
   ]
  },
  {
   "cell_type": "code",
   "execution_count": 0,
   "metadata": {
    "colab": {},
    "colab_type": "code",
    "id": "VsdLx2ClNH0H"
   },
   "outputs": [],
   "source": [
    "# Structure data in a pandas DataFrame for easier manipulation\n",
    "wells_tweets = getTaggedTweets(\"#wellsfargo\")"
   ]
  },
  {
   "cell_type": "code",
   "execution_count": 0,
   "metadata": {
    "colab": {
     "base_uri": "https://localhost:8080/",
     "height": 201
    },
    "colab_type": "code",
    "executionInfo": {
     "elapsed": 1435,
     "status": "ok",
     "timestamp": 1587748863529,
     "user": {
      "displayName": "Vishwa Pardeshi",
      "photoUrl": "",
      "userId": "12134479053996921070"
     },
     "user_tz": -330
    },
    "id": "R9-qgMvbNH0N",
    "outputId": "b9a806ae-f99a-4f32-f5b3-460c9fca7885"
   },
   "outputs": [
    {
     "data": {
      "text/html": [
       "<div>\n",
       "<style scoped>\n",
       "    .dataframe tbody tr th:only-of-type {\n",
       "        vertical-align: middle;\n",
       "    }\n",
       "\n",
       "    .dataframe tbody tr th {\n",
       "        vertical-align: top;\n",
       "    }\n",
       "\n",
       "    .dataframe thead th {\n",
       "        text-align: right;\n",
       "    }\n",
       "</style>\n",
       "<table border=\"1\" class=\"dataframe\">\n",
       "  <thead>\n",
       "    <tr style=\"text-align: right;\">\n",
       "      <th></th>\n",
       "      <th>user</th>\n",
       "      <th>date</th>\n",
       "      <th>text</th>\n",
       "      <th>favorite_count</th>\n",
       "      <th>hashtags</th>\n",
       "      <th>user_loc</th>\n",
       "    </tr>\n",
       "  </thead>\n",
       "  <tbody>\n",
       "    <tr>\n",
       "      <th>0</th>\n",
       "      <td>LANIorg</td>\n",
       "      <td>Fri Apr 24 17:01:37 +0000 2020</td>\n",
       "      <td>Renovations at Wilmington Town Square will be ...</td>\n",
       "      <td>0</td>\n",
       "      <td>[]</td>\n",
       "      <td>Los Angeles, CA</td>\n",
       "    </tr>\n",
       "    <tr>\n",
       "      <th>1</th>\n",
       "      <td>EyeCapital</td>\n",
       "      <td>Fri Apr 24 16:42:52 +0000 2020</td>\n",
       "      <td>RT @sussenglish: The big banks reported #earni...</td>\n",
       "      <td>0</td>\n",
       "      <td>[earnings, BankofAmerica, WellsFargo]</td>\n",
       "      <td></td>\n",
       "    </tr>\n",
       "    <tr>\n",
       "      <th>2</th>\n",
       "      <td>sussenglish</td>\n",
       "      <td>Fri Apr 24 16:41:54 +0000 2020</td>\n",
       "      <td>The big banks reported #earnings last week.Thi...</td>\n",
       "      <td>1</td>\n",
       "      <td>[earnings, BankofAmerica, WellsFargo]</td>\n",
       "      <td>Argentina</td>\n",
       "    </tr>\n",
       "    <tr>\n",
       "      <th>3</th>\n",
       "      <td>dapinski</td>\n",
       "      <td>Fri Apr 24 16:14:23 +0000 2020</td>\n",
       "      <td>Anyone that continues to say that the big #ban...</td>\n",
       "      <td>0</td>\n",
       "      <td>[banks, JPMorgan]</td>\n",
       "      <td>Philadelphia, PA</td>\n",
       "    </tr>\n",
       "    <tr>\n",
       "      <th>4</th>\n",
       "      <td>CnLi0n</td>\n",
       "      <td>Fri Apr 24 15:38:42 +0000 2020</td>\n",
       "      <td>Well now my bank has taken the rest of my mone...</td>\n",
       "      <td>0</td>\n",
       "      <td>[]</td>\n",
       "      <td>Downtown, Austin</td>\n",
       "    </tr>\n",
       "  </tbody>\n",
       "</table>\n",
       "</div>"
      ],
      "text/plain": [
       "          user  ...          user_loc\n",
       "0      LANIorg  ...   Los Angeles, CA\n",
       "1   EyeCapital  ...                  \n",
       "2  sussenglish  ...         Argentina\n",
       "3     dapinski  ...  Philadelphia, PA\n",
       "4       CnLi0n  ...  Downtown, Austin\n",
       "\n",
       "[5 rows x 6 columns]"
      ]
     },
     "execution_count": 60,
     "metadata": {
      "tags": []
     },
     "output_type": "execute_result"
    }
   ],
   "source": [
    "wells_tweets.head(5)"
   ]
  },
  {
   "cell_type": "code",
   "execution_count": 0,
   "metadata": {
    "colab": {},
    "colab_type": "code",
    "id": "pvzj5b-1NH0P"
   },
   "outputs": [],
   "source": [
    "wells_tweets.to_csv(\"wellsfargotweets.csv\")"
   ]
  },
  {
   "cell_type": "markdown",
   "metadata": {
    "colab_type": "text",
    "id": "lhcfvnXECEHS"
   },
   "source": [
    "# Citi Group Web Scraping"
   ]
  },
  {
   "cell_type": "code",
   "execution_count": 0,
   "metadata": {
    "colab": {},
    "colab_type": "code",
    "id": "49jwkH47B6wc"
   },
   "outputs": [],
   "source": [
    "citi_url= \"https://jobs.citi.com/search-jobs\""
   ]
  },
  {
   "cell_type": "code",
   "execution_count": 0,
   "metadata": {
    "colab": {},
    "colab_type": "code",
    "id": "Fp7c3iHVB6tN"
   },
   "outputs": [],
   "source": [
    "citi_soup = getSoup(citi_url)\n",
    "\n",
    "\n",
    "job_name = []\n",
    "locations = []\n",
    "dates = []\n",
    "#to get all li \n",
    "job_list = citi_soup.find('section', attrs = {'id':'search-results-list'})\n",
    "for row in job_list.findAll('li'):\n",
    "  job_name.append(row.h2.text)\n",
    "  locations.append(row.find('span', attrs = {'class': 'job-location'}).text)\n",
    "  dates.append(row.find('span', attrs = {'class': 'job-date-posted'}).text)"
   ]
  },
  {
   "cell_type": "code",
   "execution_count": 0,
   "metadata": {
    "colab": {},
    "colab_type": "code",
    "id": "h_klXxEtB6nu"
   },
   "outputs": [],
   "source": [
    "citi_df = getJobsDf(job_name, locations, dates)"
   ]
  },
  {
   "cell_type": "code",
   "execution_count": 0,
   "metadata": {
    "colab": {
     "base_uri": "https://localhost:8080/",
     "height": 201
    },
    "colab_type": "code",
    "executionInfo": {
     "elapsed": 986,
     "status": "ok",
     "timestamp": 1587748946102,
     "user": {
      "displayName": "Vishwa Pardeshi",
      "photoUrl": "",
      "userId": "12134479053996921070"
     },
     "user_tz": -330
    },
    "id": "_k9v7YSDB6lh",
    "outputId": "2e9ead23-f7cd-49a6-cabe-c277a234f213"
   },
   "outputs": [
    {
     "data": {
      "text/html": [
       "<div>\n",
       "<style scoped>\n",
       "    .dataframe tbody tr th:only-of-type {\n",
       "        vertical-align: middle;\n",
       "    }\n",
       "\n",
       "    .dataframe tbody tr th {\n",
       "        vertical-align: top;\n",
       "    }\n",
       "\n",
       "    .dataframe thead th {\n",
       "        text-align: right;\n",
       "    }\n",
       "</style>\n",
       "<table border=\"1\" class=\"dataframe\">\n",
       "  <thead>\n",
       "    <tr style=\"text-align: right;\">\n",
       "      <th></th>\n",
       "      <th>Job Name</th>\n",
       "      <th>Location</th>\n",
       "      <th>Date Posted</th>\n",
       "    </tr>\n",
       "  </thead>\n",
       "  <tbody>\n",
       "    <tr>\n",
       "      <th>0</th>\n",
       "      <td>Vice President, Capital Planning Design</td>\n",
       "      <td>New York, New York, United States</td>\n",
       "      <td>04/23/2020</td>\n",
       "    </tr>\n",
       "    <tr>\n",
       "      <th>1</th>\n",
       "      <td>Vice President - Treasury GPO/Financial Soluti...</td>\n",
       "      <td>New York, New York, United States</td>\n",
       "      <td>04/23/2020</td>\n",
       "    </tr>\n",
       "    <tr>\n",
       "      <th>2</th>\n",
       "      <td>Service Rep 5</td>\n",
       "      <td>Tuxtla Gutiérrez, Mexico</td>\n",
       "      <td>04/23/2020</td>\n",
       "    </tr>\n",
       "    <tr>\n",
       "      <th>3</th>\n",
       "      <td>Solutions Sales Sr. Group Manager</td>\n",
       "      <td>Miami, Florida, United States</td>\n",
       "      <td>04/23/2020</td>\n",
       "    </tr>\n",
       "    <tr>\n",
       "      <th>4</th>\n",
       "      <td>SME Relationship Manager - 11</td>\n",
       "      <td>Multiple Locations</td>\n",
       "      <td>04/23/2020</td>\n",
       "    </tr>\n",
       "  </tbody>\n",
       "</table>\n",
       "</div>"
      ],
      "text/plain": [
       "                                            Job Name  ... Date Posted\n",
       "0            Vice President, Capital Planning Design  ...  04/23/2020\n",
       "1  Vice President - Treasury GPO/Financial Soluti...  ...  04/23/2020\n",
       "2                                      Service Rep 5  ...  04/23/2020\n",
       "3                  Solutions Sales Sr. Group Manager  ...  04/23/2020\n",
       "4                      SME Relationship Manager - 11  ...  04/23/2020\n",
       "\n",
       "[5 rows x 3 columns]"
      ]
     },
     "execution_count": 66,
     "metadata": {
      "tags": []
     },
     "output_type": "execute_result"
    }
   ],
   "source": [
    "citi_df.head()"
   ]
  },
  {
   "cell_type": "code",
   "execution_count": 0,
   "metadata": {
    "colab": {},
    "colab_type": "code",
    "id": "ZMOfUDTeB6ik"
   },
   "outputs": [],
   "source": [
    "citi_df.to_csv(r'citi_job_list.csv',index=False, header=True)"
   ]
  },
  {
   "cell_type": "markdown",
   "metadata": {
    "colab_type": "text",
    "id": "Vosgh7paChpD"
   },
   "source": [
    "# Citi Group Twitter Data"
   ]
  },
  {
   "cell_type": "code",
   "execution_count": 0,
   "metadata": {
    "colab": {},
    "colab_type": "code",
    "id": "XmNTB5DcNqxJ"
   },
   "outputs": [],
   "source": [
    "# Structure data in a pandas DataFrame for easier manipulation\n",
    "citi_tweets = getTaggedTweets(\"#CitiGroup\")"
   ]
  },
  {
   "cell_type": "code",
   "execution_count": 0,
   "metadata": {
    "colab": {
     "base_uri": "https://localhost:8080/",
     "height": 201
    },
    "colab_type": "code",
    "executionInfo": {
     "elapsed": 2043,
     "status": "ok",
     "timestamp": 1587749096279,
     "user": {
      "displayName": "Vishwa Pardeshi",
      "photoUrl": "",
      "userId": "12134479053996921070"
     },
     "user_tz": -330
    },
    "id": "1Ji3-V3HNqxL",
    "outputId": "1c46a171-9cf3-4616-e739-48ae01dcda8e"
   },
   "outputs": [
    {
     "data": {
      "text/html": [
       "<div>\n",
       "<style scoped>\n",
       "    .dataframe tbody tr th:only-of-type {\n",
       "        vertical-align: middle;\n",
       "    }\n",
       "\n",
       "    .dataframe tbody tr th {\n",
       "        vertical-align: top;\n",
       "    }\n",
       "\n",
       "    .dataframe thead th {\n",
       "        text-align: right;\n",
       "    }\n",
       "</style>\n",
       "<table border=\"1\" class=\"dataframe\">\n",
       "  <thead>\n",
       "    <tr style=\"text-align: right;\">\n",
       "      <th></th>\n",
       "      <th>user</th>\n",
       "      <th>date</th>\n",
       "      <th>text</th>\n",
       "      <th>favorite_count</th>\n",
       "      <th>hashtags</th>\n",
       "      <th>user_loc</th>\n",
       "    </tr>\n",
       "  </thead>\n",
       "  <tbody>\n",
       "    <tr>\n",
       "      <th>0</th>\n",
       "      <td>EyeCapital</td>\n",
       "      <td>Fri Apr 24 16:43:00 +0000 2020</td>\n",
       "      <td>RT @sussenglish: Faced with unprecedented dema...</td>\n",
       "      <td>0</td>\n",
       "      <td>[credit, corporateloans, COVID]</td>\n",
       "      <td></td>\n",
       "    </tr>\n",
       "    <tr>\n",
       "      <th>1</th>\n",
       "      <td>sussenglish</td>\n",
       "      <td>Fri Apr 24 16:29:40 +0000 2020</td>\n",
       "      <td>Faced with unprecedented demand for #credit li...</td>\n",
       "      <td>0</td>\n",
       "      <td>[credit, corporateloans, COVID]</td>\n",
       "      <td>Argentina</td>\n",
       "    </tr>\n",
       "    <tr>\n",
       "      <th>2</th>\n",
       "      <td>dapinski</td>\n",
       "      <td>Fri Apr 24 16:14:23 +0000 2020</td>\n",
       "      <td>Anyone that continues to say that the big #ban...</td>\n",
       "      <td>0</td>\n",
       "      <td>[banks, JPMorgan]</td>\n",
       "      <td>Philadelphia, PA</td>\n",
       "    </tr>\n",
       "    <tr>\n",
       "      <th>3</th>\n",
       "      <td>CkShow979</td>\n",
       "      <td>Fri Apr 24 12:26:31 +0000 2020</td>\n",
       "      <td>The online bank Ally announced they're forgivi...</td>\n",
       "      <td>0</td>\n",
       "      <td>[]</td>\n",
       "      <td>North Carolina, USA</td>\n",
       "    </tr>\n",
       "    <tr>\n",
       "      <th>4</th>\n",
       "      <td>Tickeron</td>\n",
       "      <td>Fri Apr 24 09:53:29 +0000 2020</td>\n",
       "      <td>$C in Downtrend: Stochastic indicator is remai...</td>\n",
       "      <td>0</td>\n",
       "      <td>[]</td>\n",
       "      <td>Sunnyvale, CA</td>\n",
       "    </tr>\n",
       "  </tbody>\n",
       "</table>\n",
       "</div>"
      ],
      "text/plain": [
       "          user  ...             user_loc\n",
       "0   EyeCapital  ...                     \n",
       "1  sussenglish  ...            Argentina\n",
       "2     dapinski  ...     Philadelphia, PA\n",
       "3    CkShow979  ...  North Carolina, USA\n",
       "4     Tickeron  ...        Sunnyvale, CA\n",
       "\n",
       "[5 rows x 6 columns]"
      ]
     },
     "execution_count": 74,
     "metadata": {
      "tags": []
     },
     "output_type": "execute_result"
    }
   ],
   "source": [
    "citi_tweets.head(5)"
   ]
  },
  {
   "cell_type": "code",
   "execution_count": 0,
   "metadata": {
    "colab": {},
    "colab_type": "code",
    "id": "2xhqyqPRCvIA"
   },
   "outputs": [],
   "source": [
    "citi_tweets.to_csv(r'citigroup tweets.csv',index=False, header=True)"
   ]
  },
  {
   "cell_type": "markdown",
   "metadata": {
    "colab_type": "text",
    "id": "D_ExHKecC-f6"
   },
   "source": [
    "# Goldman Sachs Twitter Data\n",
    "Goldman Sachs site couldnt be parsed using an html parser and hence we manually entered the jobs present."
   ]
  },
  {
   "cell_type": "code",
   "execution_count": 0,
   "metadata": {
    "colab": {},
    "colab_type": "code",
    "id": "BtQQraW9OZTQ"
   },
   "outputs": [],
   "source": [
    "# Structure data in a pandas DataFrame for easier manipulation\n",
    "goldman_tweets = getTaggedTweets('#goldmansachs')"
   ]
  },
  {
   "cell_type": "code",
   "execution_count": 0,
   "metadata": {
    "colab": {
     "base_uri": "https://localhost:8080/",
     "height": 283
    },
    "colab_type": "code",
    "executionInfo": {
     "elapsed": 1169,
     "status": "ok",
     "timestamp": 1587749188495,
     "user": {
      "displayName": "Vishwa Pardeshi",
      "photoUrl": "",
      "userId": "12134479053996921070"
     },
     "user_tz": -330
    },
    "id": "hW-_aEkXOZTY",
    "outputId": "22550201-1bff-49c9-87fd-3c7c16cc0bbf"
   },
   "outputs": [
    {
     "data": {
      "text/html": [
       "<div>\n",
       "<style scoped>\n",
       "    .dataframe tbody tr th:only-of-type {\n",
       "        vertical-align: middle;\n",
       "    }\n",
       "\n",
       "    .dataframe tbody tr th {\n",
       "        vertical-align: top;\n",
       "    }\n",
       "\n",
       "    .dataframe thead th {\n",
       "        text-align: right;\n",
       "    }\n",
       "</style>\n",
       "<table border=\"1\" class=\"dataframe\">\n",
       "  <thead>\n",
       "    <tr style=\"text-align: right;\">\n",
       "      <th></th>\n",
       "      <th>user</th>\n",
       "      <th>date</th>\n",
       "      <th>text</th>\n",
       "      <th>favorite_count</th>\n",
       "      <th>hashtags</th>\n",
       "      <th>user_loc</th>\n",
       "    </tr>\n",
       "  </thead>\n",
       "  <tbody>\n",
       "    <tr>\n",
       "      <th>0</th>\n",
       "      <td>WestJournalism</td>\n",
       "      <td>Fri Apr 24 02:00:32 +0000 2020</td>\n",
       "      <td>Kelly took a big stand, but apparently the cor...</td>\n",
       "      <td>21</td>\n",
       "      <td>[2020election, Arizona]</td>\n",
       "      <td>Phoenix, AZ</td>\n",
       "    </tr>\n",
       "    <tr>\n",
       "      <th>1</th>\n",
       "      <td>laserhaas01</td>\n",
       "      <td>Fri Apr 24 17:24:14 +0000 2020</td>\n",
       "      <td>RT @An0nAKn0wledge: Goldman Sachs Is Split In ...</td>\n",
       "      <td>0</td>\n",
       "      <td>[CultureOfCorruption, GoldmanSachs]</td>\n",
       "      <td>Roaming NY, DE, CA, DC or OK</td>\n",
       "    </tr>\n",
       "    <tr>\n",
       "      <th>2</th>\n",
       "      <td>An0nAKn0wledge</td>\n",
       "      <td>Fri Apr 24 17:02:44 +0000 2020</td>\n",
       "      <td>RT @An0nAKn0wledge: Goldman Sachs Is Split In ...</td>\n",
       "      <td>0</td>\n",
       "      <td>[CultureOfCorruption, GoldmanSachs]</td>\n",
       "      <td>EVERYWHERE BUT NOWHERE</td>\n",
       "    </tr>\n",
       "    <tr>\n",
       "      <th>3</th>\n",
       "      <td>BitcoinFr2030</td>\n",
       "      <td>Fri Apr 24 16:49:07 +0000 2020</td>\n",
       "      <td>If you support \\n#blackrock #goldmansachs and ...</td>\n",
       "      <td>0</td>\n",
       "      <td>[blackrock, goldmansachs, StockMarket]</td>\n",
       "      <td>Delaware, USA</td>\n",
       "    </tr>\n",
       "    <tr>\n",
       "      <th>4</th>\n",
       "      <td>MtnManMerica</td>\n",
       "      <td>Fri Apr 24 16:38:49 +0000 2020</td>\n",
       "      <td>RT @WestJournalism: Kelly took a big stand, bu...</td>\n",
       "      <td>0</td>\n",
       "      <td>[2020election, Arizona, CampaignFinance]</td>\n",
       "      <td>San Diego</td>\n",
       "    </tr>\n",
       "  </tbody>\n",
       "</table>\n",
       "</div>"
      ],
      "text/plain": [
       "             user  ...                       user_loc\n",
       "0  WestJournalism  ...                    Phoenix, AZ\n",
       "1     laserhaas01  ...  Roaming NY, DE, CA, DC or OK \n",
       "2  An0nAKn0wledge  ...         EVERYWHERE BUT NOWHERE\n",
       "3   BitcoinFr2030  ...                  Delaware, USA\n",
       "4    MtnManMerica  ...                      San Diego\n",
       "\n",
       "[5 rows x 6 columns]"
      ]
     },
     "execution_count": 77,
     "metadata": {
      "tags": []
     },
     "output_type": "execute_result"
    }
   ],
   "source": [
    "goldman_tweets.head(5)"
   ]
  },
  {
   "cell_type": "code",
   "execution_count": 0,
   "metadata": {
    "colab": {},
    "colab_type": "code",
    "id": "inZuOOnQCuxb"
   },
   "outputs": [],
   "source": [
    "goldman_tweets.to_csv(r'goldman tweets.csv',index=False, header=True)"
   ]
  },
  {
   "cell_type": "markdown",
   "metadata": {
    "colab_type": "text",
    "id": "5YpyJxYrEgQd"
   },
   "source": [
    "# Comparison between Companies\n",
    "Bofa vs Citi"
   ]
  },
  {
   "cell_type": "code",
   "execution_count": 0,
   "metadata": {
    "colab": {},
    "colab_type": "code",
    "id": "gHIFR9tYElLT"
   },
   "outputs": [],
   "source": [
    "bofa_citi_url = 'https://www.diffen.com/difference/Bank_of_America_vs_Citigroup'"
   ]
  },
  {
   "cell_type": "code",
   "execution_count": 0,
   "metadata": {
    "colab": {
     "base_uri": "https://localhost:8080/",
     "height": 52
    },
    "colab_type": "code",
    "executionInfo": {
     "elapsed": 2257,
     "status": "ok",
     "timestamp": 1587749381073,
     "user": {
      "displayName": "Vishwa Pardeshi",
      "photoUrl": "",
      "userId": "12134479053996921070"
     },
     "user_tz": -330
    },
    "id": "ua8mauo5ElIm",
    "outputId": "38e7faa0-5e5d-43fa-9ed7-021b33c30bd9"
   },
   "outputs": [
    {
     "name": "stdout",
     "output_type": "stream",
     "text": [
      "[['Charlotte, North Carolina, U.S.', 'New York City, USA'], ['Kenneth D. Lewis, Chairman, President & CEO  Amy W. Brinkley, Global Risk Executive  J. Steele Alphin, CAO  Joe L. Price, CFO', 'Sir Win Bischoff, Chairman \\nVikram Pandit, CEO \\nGary Crittenden, CFO'], ['Banking', 'Financial services'], ['Financial Services', 'Consumer Banking \\nCorporate Banking \\nStockbroking \\nInvestment Banking \\nGlobal Wealth Management \\nInvestment Research \\nPrivate Equity \\nStructured Products'], ['$117.01 billion USD (2006)', 'US $146.7 billion (2006)'], ['$21.13 billion USD (2006)', 'US $21.538 billion (2006)'], ['203,425 (2006)', '332,000 (2007)'], ['Bank of Opportunity', \"Let's get it done.\"], ['www.bankofamerica.com www.bofa.com', 'www.citigroup.com'], ['Bank of America (NYSE: BAC TYO: 8648) is the largest commercial bank in the United States in terms of deposits, and the 2nd largest company of its kind in the world behind Citigroup.[4][5][6]', 'Citigroup Inc. (NYSE: C), operating as Citi, is a major American financial services company based in New York City, formed from the merger of Citicorp and Travelers Group on April 7, 1998.[3] According to Forbes Global 2000 in March 2007, it is the l'], ['Public (NYSE: BAC TYO: 8648)', 'Public (NYSE: C)'], ['(as \"Bank of Italy\") San Francisco, CA (1928) (acquiring banks) Charlotte, NC (1874) Boston, MA (1784)', 'New York City, USA (1812)']]\n"
     ]
    }
   ],
   "source": [
    "bofa_citi_soup = getSoup(bofa_citi_url)\n",
    "table = bofa_citi_soup.find('table')\n",
    "result = []\n",
    "for row in table.findAll('tr'):\n",
    "  result.append([at.string for at in row.findAll('td')])\n",
    "result = result[3:]\n",
    "print(result)"
   ]
  },
  {
   "cell_type": "code",
   "execution_count": 0,
   "metadata": {
    "colab": {},
    "colab_type": "code",
    "id": "WgmL-lCNElHB"
   },
   "outputs": [],
   "source": [
    "bofa_citi_df = pd.DataFrame( columns = ['BofA', 'Citi'], index= ['Headquarters', 'Key People', 'Industry', 'Products', 'Revenue', 'Net Income', 'Employees','Slogan', 'Website', 'Introduction', 'Type', 'Founded'], data = result)"
   ]
  },
  {
   "cell_type": "code",
   "execution_count": 0,
   "metadata": {
    "colab": {
     "base_uri": "https://localhost:8080/",
     "height": 201
    },
    "colab_type": "code",
    "executionInfo": {
     "elapsed": 1229,
     "status": "ok",
     "timestamp": 1587749396717,
     "user": {
      "displayName": "Vishwa Pardeshi",
      "photoUrl": "",
      "userId": "12134479053996921070"
     },
     "user_tz": -330
    },
    "id": "pcMrh9UUElEN",
    "outputId": "07e28632-dd72-4589-fc1f-fbe7927621c5"
   },
   "outputs": [
    {
     "data": {
      "text/html": [
       "<div>\n",
       "<style scoped>\n",
       "    .dataframe tbody tr th:only-of-type {\n",
       "        vertical-align: middle;\n",
       "    }\n",
       "\n",
       "    .dataframe tbody tr th {\n",
       "        vertical-align: top;\n",
       "    }\n",
       "\n",
       "    .dataframe thead th {\n",
       "        text-align: right;\n",
       "    }\n",
       "</style>\n",
       "<table border=\"1\" class=\"dataframe\">\n",
       "  <thead>\n",
       "    <tr style=\"text-align: right;\">\n",
       "      <th></th>\n",
       "      <th>BofA</th>\n",
       "      <th>Citi</th>\n",
       "    </tr>\n",
       "  </thead>\n",
       "  <tbody>\n",
       "    <tr>\n",
       "      <th>Headquarters</th>\n",
       "      <td>Charlotte, North Carolina, U.S.</td>\n",
       "      <td>New York City, USA</td>\n",
       "    </tr>\n",
       "    <tr>\n",
       "      <th>Key People</th>\n",
       "      <td>Kenneth D. Lewis, Chairman, President &amp; CEO  A...</td>\n",
       "      <td>Sir Win Bischoff, Chairman \\nVikram Pandit, CE...</td>\n",
       "    </tr>\n",
       "    <tr>\n",
       "      <th>Industry</th>\n",
       "      <td>Banking</td>\n",
       "      <td>Financial services</td>\n",
       "    </tr>\n",
       "    <tr>\n",
       "      <th>Products</th>\n",
       "      <td>Financial Services</td>\n",
       "      <td>Consumer Banking \\nCorporate Banking \\nStockbr...</td>\n",
       "    </tr>\n",
       "    <tr>\n",
       "      <th>Revenue</th>\n",
       "      <td>$117.01 billion USD (2006)</td>\n",
       "      <td>US $146.7 billion (2006)</td>\n",
       "    </tr>\n",
       "  </tbody>\n",
       "</table>\n",
       "</div>"
      ],
      "text/plain": [
       "                                                           BofA                                               Citi\n",
       "Headquarters                    Charlotte, North Carolina, U.S.                                 New York City, USA\n",
       "Key People    Kenneth D. Lewis, Chairman, President & CEO  A...  Sir Win Bischoff, Chairman \\nVikram Pandit, CE...\n",
       "Industry                                                Banking                                 Financial services\n",
       "Products                                     Financial Services  Consumer Banking \\nCorporate Banking \\nStockbr...\n",
       "Revenue                              $117.01 billion USD (2006)                           US $146.7 billion (2006)"
      ]
     },
     "execution_count": 82,
     "metadata": {
      "tags": []
     },
     "output_type": "execute_result"
    }
   ],
   "source": [
    "bofa_citi_df.head()"
   ]
  },
  {
   "cell_type": "code",
   "execution_count": 0,
   "metadata": {
    "colab": {},
    "colab_type": "code",
    "id": "-DJQVMfhElBo"
   },
   "outputs": [],
   "source": [
    "bofa_citi_df.to_csv(r'bofavsciti.csv',index=False, header=True)"
   ]
  },
  {
   "cell_type": "markdown",
   "metadata": {
    "colab_type": "text",
    "id": "TvR7qvYVFZdS"
   },
   "source": [
    "Bofa vs JPMC"
   ]
  },
  {
   "cell_type": "code",
   "execution_count": 0,
   "metadata": {
    "colab": {},
    "colab_type": "code",
    "id": "jqfYtr3kEk54"
   },
   "outputs": [],
   "source": [
    "bofa_jpmc_url= 'https://www.diffen.com/difference/Bank_of_America_vs_JPMorgan_Chase'"
   ]
  },
  {
   "cell_type": "code",
   "execution_count": 0,
   "metadata": {
    "colab": {},
    "colab_type": "code",
    "id": "pO5su2S7Ek3T"
   },
   "outputs": [],
   "source": [
    "bofa_jpmc_soup = getSoup(bofa_jpmc_url)"
   ]
  },
  {
   "cell_type": "code",
   "execution_count": 0,
   "metadata": {
    "colab": {
     "base_uri": "https://localhost:8080/",
     "height": 52
    },
    "colab_type": "code",
    "executionInfo": {
     "elapsed": 1265,
     "status": "ok",
     "timestamp": 1587749438086,
     "user": {
      "displayName": "Vishwa Pardeshi",
      "photoUrl": "",
      "userId": "12134479053996921070"
     },
     "user_tz": -330
    },
    "id": "Aco-w7tdCuu7",
    "outputId": "9d441b4b-3b5c-4e9c-a8cb-b3cf04ee562c"
   },
   "outputs": [
    {
     "name": "stdout",
     "output_type": "stream",
     "text": [
      "[['Charlotte, North Carolina, U.S.', 'New York, NY, U.S.'], ['Kenneth D. Lewis, Chairman, President & CEO  Amy W. Brinkley, Global Risk Executive  J. Steele Alphin, CAO  Joe L. Price, CFO', 'Jamie Dimon, Chairman, President & CEO'], ['Banking', 'Finance and Insurance'], ['Financial Services', 'Financial Services'], ['$117.01 billion USD (2006)', 'US$99.9 billion (2007)'], ['$21.13 billion USD (2006)', 'US$14.4 billion (2007)'], ['203,425 (2006)', '174,360 (2007)'], ['www.bankofamerica.com www.bofa.com', 'www.jpmorganchase.com\\nwww.jpmorgan.com\\nwww.chase.com'], ['Bank of America (NYSE: BAC TYO: 8648) is the largest commercial bank in the United States in terms of deposits, and the 2nd largest company of its kind in the world behind Citigroup.[4][5][6]', 'JPMorgan Chase (NYSE: JPM) is one of the oldest financial services firms in the world. The company, headquartered in New York City, is one of the leaders in investment banking, retail financial services, asset and wealth management and private equity'], ['Public (NYSE: BAC TYO: 8648)', 'Public (NYSE: JPM, TYO: 8634)'], ['(as \"Bank of Italy\") San Francisco, CA (1928) (acquiring banks) Charlotte, NC (1874) Boston, MA (1784)', '1799']]\n"
     ]
    }
   ],
   "source": [
    "table = bofa_jpmc_soup.find('table')\n",
    "result = []\n",
    "for row in table.findAll('tr'):\n",
    "  result.append([at.string for at in row.findAll('td')])\n",
    "result = result[3:]\n",
    "print(result)\n"
   ]
  },
  {
   "cell_type": "code",
   "execution_count": 0,
   "metadata": {
    "colab": {},
    "colab_type": "code",
    "id": "T0P1DcZqFhGv"
   },
   "outputs": [],
   "source": [
    "\n",
    "bofa_jpmc_df = pd.DataFrame( columns = ['BofA', 'JPMC'], index= ['Token', 'Headquarters', 'Industry', 'Products', 'Revenue', 'Net Income', 'Employees', 'Webstie', 'Intorduction', 'Type', 'Founded'], data = result)"
   ]
  },
  {
   "cell_type": "code",
   "execution_count": 0,
   "metadata": {
    "colab": {
     "base_uri": "https://localhost:8080/",
     "height": 201
    },
    "colab_type": "code",
    "executionInfo": {
     "elapsed": 8236,
     "status": "ok",
     "timestamp": 1587749468239,
     "user": {
      "displayName": "Vishwa Pardeshi",
      "photoUrl": "",
      "userId": "12134479053996921070"
     },
     "user_tz": -330
    },
    "id": "LkuWhotbFhFl",
    "outputId": "7145ca61-65e9-4698-c181-dd76f28d3882"
   },
   "outputs": [
    {
     "data": {
      "text/html": [
       "<div>\n",
       "<style scoped>\n",
       "    .dataframe tbody tr th:only-of-type {\n",
       "        vertical-align: middle;\n",
       "    }\n",
       "\n",
       "    .dataframe tbody tr th {\n",
       "        vertical-align: top;\n",
       "    }\n",
       "\n",
       "    .dataframe thead th {\n",
       "        text-align: right;\n",
       "    }\n",
       "</style>\n",
       "<table border=\"1\" class=\"dataframe\">\n",
       "  <thead>\n",
       "    <tr style=\"text-align: right;\">\n",
       "      <th></th>\n",
       "      <th>BofA</th>\n",
       "      <th>JPMC</th>\n",
       "    </tr>\n",
       "  </thead>\n",
       "  <tbody>\n",
       "    <tr>\n",
       "      <th>Token</th>\n",
       "      <td>Charlotte, North Carolina, U.S.</td>\n",
       "      <td>New York, NY, U.S.</td>\n",
       "    </tr>\n",
       "    <tr>\n",
       "      <th>Headquarters</th>\n",
       "      <td>Kenneth D. Lewis, Chairman, President &amp; CEO  A...</td>\n",
       "      <td>Jamie Dimon, Chairman, President &amp; CEO</td>\n",
       "    </tr>\n",
       "    <tr>\n",
       "      <th>Industry</th>\n",
       "      <td>Banking</td>\n",
       "      <td>Finance and Insurance</td>\n",
       "    </tr>\n",
       "    <tr>\n",
       "      <th>Products</th>\n",
       "      <td>Financial Services</td>\n",
       "      <td>Financial Services</td>\n",
       "    </tr>\n",
       "    <tr>\n",
       "      <th>Revenue</th>\n",
       "      <td>$117.01 billion USD (2006)</td>\n",
       "      <td>US$99.9 billion (2007)</td>\n",
       "    </tr>\n",
       "  </tbody>\n",
       "</table>\n",
       "</div>"
      ],
      "text/plain": [
       "                                                           BofA                                    JPMC\n",
       "Token                           Charlotte, North Carolina, U.S.                      New York, NY, U.S.\n",
       "Headquarters  Kenneth D. Lewis, Chairman, President & CEO  A...  Jamie Dimon, Chairman, President & CEO\n",
       "Industry                                                Banking                   Finance and Insurance\n",
       "Products                                     Financial Services                      Financial Services\n",
       "Revenue                              $117.01 billion USD (2006)                  US$99.9 billion (2007)"
      ]
     },
     "execution_count": 88,
     "metadata": {
      "tags": []
     },
     "output_type": "execute_result"
    }
   ],
   "source": [
    "bofa_jpmc_df.head()"
   ]
  },
  {
   "cell_type": "code",
   "execution_count": 0,
   "metadata": {
    "colab": {},
    "colab_type": "code",
    "id": "GeYOu6iZFhCM"
   },
   "outputs": [],
   "source": [
    "bofa_jpmc_df.to_csv(r'bofavsjpmc.csv',index=False, header=True)"
   ]
  },
  {
   "cell_type": "markdown",
   "metadata": {
    "colab_type": "text",
    "id": "hiIxCBvMFsHz"
   },
   "source": [
    "Wells Fargo vs Goldmansachs"
   ]
  },
  {
   "cell_type": "code",
   "execution_count": 0,
   "metadata": {
    "colab": {},
    "colab_type": "code",
    "id": "GyXddodBFg5y"
   },
   "outputs": [],
   "source": [
    "wells_gold_url = 'https://www.diffen.com/difference/Goldman_Sachs_vs_Wells_Fargo'"
   ]
  },
  {
   "cell_type": "code",
   "execution_count": 0,
   "metadata": {
    "colab": {
     "base_uri": "https://localhost:8080/",
     "height": 52
    },
    "colab_type": "code",
    "executionInfo": {
     "elapsed": 1181,
     "status": "ok",
     "timestamp": 1587749499935,
     "user": {
      "displayName": "Vishwa Pardeshi",
      "photoUrl": "",
      "userId": "12134479053996921070"
     },
     "user_tz": -330
    },
    "id": "c1A0E6fkFg3T",
    "outputId": "8e4d0f41-00c1-4557-9e44-3f7da931b0e1"
   },
   "outputs": [
    {
     "name": "stdout",
     "output_type": "stream",
     "text": [
      "[[\"The Goldman Sachs Group, Inc., or simply Goldman Sachs (NYSE: GS), is one of the world's largest global investment banks. Goldman Sachs was founded in 1869, and is headquartered in the Lower Manhattan area of New York City at 85 Broad Street.[1] Gold\", 'Wells Fargo &amp; Co. (NYSE: WFC) is a diversified financial services company in the United States with operations around the world. Wells Fargo is the 5th largest bank in the US by assets and the 9th largest bank in the world by market cap.[1] It is'], ['Public (NYSE: GS)', 'Public (NYSE: WFC)'], ['1869', 'New York, New York, USA (March 18, 1852)'], ['New York, NY', '420 Montgomery, San Francisco, California, USA'], ['Lloyd Blankfein, Chairman & CEO \\nGary Cohn, President & COO \\nJon Winkelried, President and COO \\nJohn S. Weinberg, Vice Chairman \\nDavid A. Viniar, CFO \\nEdward C. Forst, CAO \\nGregory K. Palm, General Counsel \\nEsta E. Stecher, General Counsel \\nKevin W.', 'Richard Kovacevich, \\nChairman \\nJohn Stumpf, \\nPresident and CEO'], ['Investment Banking', 'Retail Banking \\nInsurance \\nInvestments \\nMortgages \\nConsumer Finance \\nCorporate and Investment Banking'], ['US $46 Billion (2007)', 'US $35.691 billion (2006)'], ['US $11.4 Billion (2007)', '$8.484 billion USD (2006)'], ['34,809 (2007)', '160,000(2007)'], [\"Our clients' interests always come first.\", '\"The Next Stage\"'], ['www.gs.com', 'www.wellsfargo.com']]\n"
     ]
    }
   ],
   "source": [
    "wells_gold_soup = getSoup(wells_gold_url)\n",
    "#print(soup)\n",
    "table = wells_gold_soup.find('table')\n",
    "result = []\n",
    "for row in table.findAll('tr'):\n",
    "  result.append([at.string for at in row.findAll('td')])\n",
    "result = result[3:]\n",
    "print(result)"
   ]
  },
  {
   "cell_type": "code",
   "execution_count": 0,
   "metadata": {
    "colab": {},
    "colab_type": "code",
    "id": "K895ppO5Fg00"
   },
   "outputs": [],
   "source": [
    "wells_gold_df = pd.DataFrame( columns = ['Wells', 'Goldman'], index= ['Introduction', 'Type', 'Founded', 'Headquarters','Key People','Products', 'Revenue', 'Net Income', 'Employees','Slogan', 'Website'], data = result)"
   ]
  },
  {
   "cell_type": "code",
   "execution_count": 0,
   "metadata": {
    "colab": {
     "base_uri": "https://localhost:8080/",
     "height": 201
    },
    "colab_type": "code",
    "executionInfo": {
     "elapsed": 1195,
     "status": "ok",
     "timestamp": 1587749511119,
     "user": {
      "displayName": "Vishwa Pardeshi",
      "photoUrl": "",
      "userId": "12134479053996921070"
     },
     "user_tz": -330
    },
    "id": "mT8naEhbFgx8",
    "outputId": "117e5113-2ce7-4cb8-c764-425ee0d5121e"
   },
   "outputs": [
    {
     "data": {
      "text/html": [
       "<div>\n",
       "<style scoped>\n",
       "    .dataframe tbody tr th:only-of-type {\n",
       "        vertical-align: middle;\n",
       "    }\n",
       "\n",
       "    .dataframe tbody tr th {\n",
       "        vertical-align: top;\n",
       "    }\n",
       "\n",
       "    .dataframe thead th {\n",
       "        text-align: right;\n",
       "    }\n",
       "</style>\n",
       "<table border=\"1\" class=\"dataframe\">\n",
       "  <thead>\n",
       "    <tr style=\"text-align: right;\">\n",
       "      <th></th>\n",
       "      <th>Wells</th>\n",
       "      <th>Goldman</th>\n",
       "    </tr>\n",
       "  </thead>\n",
       "  <tbody>\n",
       "    <tr>\n",
       "      <th>Introduction</th>\n",
       "      <td>The Goldman Sachs Group, Inc., or simply Goldm...</td>\n",
       "      <td>Wells Fargo &amp;amp; Co. (NYSE: WFC) is a diversi...</td>\n",
       "    </tr>\n",
       "    <tr>\n",
       "      <th>Type</th>\n",
       "      <td>Public (NYSE: GS)</td>\n",
       "      <td>Public (NYSE: WFC)</td>\n",
       "    </tr>\n",
       "    <tr>\n",
       "      <th>Founded</th>\n",
       "      <td>1869</td>\n",
       "      <td>New York, New York, USA (March 18, 1852)</td>\n",
       "    </tr>\n",
       "    <tr>\n",
       "      <th>Headquarters</th>\n",
       "      <td>New York, NY</td>\n",
       "      <td>420 Montgomery, San Francisco, California, USA</td>\n",
       "    </tr>\n",
       "    <tr>\n",
       "      <th>Key People</th>\n",
       "      <td>Lloyd Blankfein, Chairman &amp; CEO \\nGary Cohn, P...</td>\n",
       "      <td>Richard Kovacevich, \\nChairman \\nJohn Stumpf, ...</td>\n",
       "    </tr>\n",
       "  </tbody>\n",
       "</table>\n",
       "</div>"
      ],
      "text/plain": [
       "                                                          Wells                                            Goldman\n",
       "Introduction  The Goldman Sachs Group, Inc., or simply Goldm...  Wells Fargo &amp; Co. (NYSE: WFC) is a diversi...\n",
       "Type                                          Public (NYSE: GS)                                 Public (NYSE: WFC)\n",
       "Founded                                                    1869           New York, New York, USA (March 18, 1852)\n",
       "Headquarters                                       New York, NY     420 Montgomery, San Francisco, California, USA\n",
       "Key People    Lloyd Blankfein, Chairman & CEO \\nGary Cohn, P...  Richard Kovacevich, \\nChairman \\nJohn Stumpf, ..."
      ]
     },
     "execution_count": 94,
     "metadata": {
      "tags": []
     },
     "output_type": "execute_result"
    }
   ],
   "source": [
    "wells_gold_df.head()"
   ]
  },
  {
   "cell_type": "code",
   "execution_count": 0,
   "metadata": {
    "colab": {},
    "colab_type": "code",
    "id": "T34DVb3kF7k0"
   },
   "outputs": [],
   "source": [
    "wells_gold_df.to_csv(r'wellsvsgoldman.csv',index=False, header=True)"
   ]
  }
 ],
 "metadata": {
  "colab": {
   "collapsed_sections": [],
   "name": "final.ipynb",
   "provenance": [],
   "toc_visible": true
  },
  "kernelspec": {
   "display_name": "Python 3",
   "language": "python",
   "name": "python3"
  },
  "language_info": {
   "codemirror_mode": {
    "name": "ipython",
    "version": 3
   },
   "file_extension": ".py",
   "mimetype": "text/x-python",
   "name": "python",
   "nbconvert_exporter": "python",
   "pygments_lexer": "ipython3",
   "version": "3.7.4"
  }
 },
 "nbformat": 4,
 "nbformat_minor": 1
}
